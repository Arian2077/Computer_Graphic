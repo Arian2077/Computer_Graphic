{
 "cells": [
  {
   "cell_type": "markdown",
   "id": "f51c6e29",
   "metadata": {},
   "source": [
    "# Object tracking & motion analysis\n",
    "\n",
    "## فیلتر کردن رنگ\n",
    "\n",
    "### فیلتر بر اساس Hue (فام)\n",
    "\n",
    "- بازه رنگ Hue از ۰ تا ۱۸۰ است\n",
    "\n",
    "- بازه‌های فیلتر رنگ:\n",
    "    - قرمز: ۱۶۵ تا ۱۵\n",
    "    - سبز: ۴۵ تا ۷۵\n",
    "    - آبی: ۹۰ تا ۱۲۰\n",
    "\n",
    "### فیلتر بر اساس اشباع (Saturation) و روشنایی (Value/Brightness)\n",
    "\n",
    "- معمولاً بازه فیلتر را برای اشباع و روشنایی از ۵۰ تا ۲۵۵ قرار می‌دهیم تا رنگ‌های واقعی را پوشش دهد\n",
    "- بازه ۰ تا ۶۰ در اشباع نزدیک به سفید است\n",
    "- بازه ۰ تا ۶۰ در روشنایی نزدیک به سیاه است\n"
   ]
  },
  {
   "cell_type": "markdown",
   "id": "0e181c87",
   "metadata": {},
   "source": [
    "## Filter by color"
   ]
  },
  {
   "cell_type": "code",
   "execution_count": null,
   "id": "2cd2572c",
   "metadata": {},
   "outputs": [],
   "source": [
    "import cv2\n",
    "import numpy as np\n",
    "\n",
    "# Initialize webcam\n",
    "cap = cv2.VideoCapture(0)\n",
    "\n",
    "# define range of PURPLE color in HSV\n",
    "lower_purple = np.array([125,0,0])\n",
    "upper_purple = np.array([175,255,255])\n",
    "\n",
    "# loop until break statement is exectured\n",
    "while True:\n",
    "    \n",
    "    # Read webcam image\n",
    "    ret, frame = cap.read()\n",
    "    \n",
    "    # Convert image from RBG/BGR to HSV so we easily filter\n",
    "    hsv_img = cv2.cvtColor(frame, cv2.COLOR_BGR2HSV)\n",
    "\n",
    "\n",
    "    # Use inRange to capture only the values between lower & upper_blue\n",
    "    mask = cv2.inRange(hsv_img, lower_blue, upper_blue)\n",
    "\n",
    "    # Perform Bitwise AND on mask and our original frame\n",
    "    res = cv2.bitwise_and(frame, frame, mask=mask)\n",
    "\n",
    "    cv2.imshow('Original', frame)  \n",
    "    cv2.imshow('mask', mask)\n",
    "    cv2.imshow('Filtered Color Only', res)\n",
    "    if cv2.waitKey(1) == 13: #13 is the Enter Key\n",
    "        break\n",
    "        \n",
    "cap.release()\n",
    "cv2.destroyAllWindows()"
   ]
  },
  {
   "cell_type": "markdown",
   "id": "d1243a5e",
   "metadata": {},
   "source": [
    "این کد برای فیلتر کردن یک رنگ خاص (در اینجا بنفش) از تصویر دریافتی وب‌کم استفاده می‌کند. مراحل کار به شرح زیر است:\n",
    "\n",
    "- ابتدا کتابخانه‌های مورد نیاز (`cv2` و `numpy`) وارد می‌شوند.\n",
    "- وب‌کم با استفاده از `cv2.VideoCapture(0)` فعال می‌شود.\n",
    "- محدوده رنگ بنفش در فضای رنگی HSV با دو آرایه `lower_purple` و `upper_purple` تعریف می‌شود.\n",
    "- یک حلقه بی‌نهایت اجرا می‌شود تا زمانی که کلید Enter فشرده شود.\n",
    "- در هر تکرار حلقه:\n",
    "    - یک فریم از وب‌کم خوانده می‌شود.\n",
    "    - تصویر از فضای رنگی BGR به HSV تبدیل می‌شود تا فیلتر کردن رنگ راحت‌تر انجام شود.\n",
    "    - با استفاده از تابع `cv2.inRange`، ماسکی ساخته می‌شود که فقط پیکسل‌هایی که در محدوده رنگ بنفش قرار دارند را نگه می‌دارد.\n",
    "    - با استفاده از عملگر بیت‌به‌بیت AND، فقط بخش‌هایی از تصویر که رنگ بنفش دارند نمایش داده می‌شوند.\n",
    "    - سه پنجره نمایش داده می‌شود: تصویر اصلی، ماسک، و تصویر فیلتر شده.\n",
    "    - اگر کلید Enter فشرده شود، حلقه متوقف می‌شود.\n",
    "- در پایان، وب‌کم آزاد شده و تمام پنجره‌ها بسته می‌شوند.\n",
    "\n",
    "**نکته:** در کد نمونه، متغیرهای `lower_blue` و `upper_blue` به اشتباه استفاده شده‌اند و باید به `lower_purple` و `upper_purple` تغییر داده شوند.\n"
   ]
  },
  {
   "cell_type": "markdown",
   "id": "7e9ff43a",
   "metadata": {},
   "source": [
    "## Background Subtraction\n",
    "\n",
    "این یک تکنیک بسیار مفید در بینایی ماشین است که به ما اجازه می‌دهد اجسام متحرک (پیش‌زمینه) را از پس‌زمینه در یک جریان ویدیویی جدا کنیم.\n",
    "\n",
    "این الگوریتم‌ها اساساً درباره فریم موجود در تصویر (جریان ویدیو) یاد می‌گیرند و می‌توانند به‌طور دقیق ماسک پیش‌زمینه را شناسایی کنند. نتیجه این کار، یک تقسیم‌بندی دودویی از تصویر است که نواحی اجسام غیرثابت را برجسته می‌کند.\n",
    "\n",
    "در OpenCV چندین الگوریتم تفریق پس‌زمینه مخصوص تحلیل ویدیو وجود دارد:\n",
    "\n",
    "- **BackgroundSubtractorMOG** – یک الگوریتم جداسازی پیش‌زمینه/پس‌زمینه مبتنی بر مخلوط گاوسی. هر پیکسل پس‌زمینه را با یک مخلوطی از توزیع‌های گاوسی مدل می‌کند و با یک تقریب آنلاین مدل را به‌روزرسانی می‌کند.\n",
    "- **BackgroundSubtractorMOG2** – نسخه بهبود یافته MOG که سازگاری بهتری با صحنه‌های متغیر و سایه‌ها دارد.\n",
    "- **BackgroundSubtractorGMG** – از تخمین آماری تصویر پس‌زمینه و تقسیم‌بندی بیزی پیکسل‌به‌پیکسل استفاده می‌کند.\n",
    "\n",
    "این الگوریتم‌ها به طور گسترده در کاربردهایی مانند ردیابی اشیا، تشخیص حرکت و نظارت تصویری استفاده می‌شوند.\n"
   ]
  },
  {
   "cell_type": "markdown",
   "id": "0889d6de",
   "metadata": {},
   "source": [
    "### 1. Gaussian Mixture-based Background/Foreground Segmentation Algorithm"
   ]
  },
  {
   "cell_type": "code",
   "execution_count": null,
   "id": "6bffd085",
   "metadata": {},
   "outputs": [],
   "source": [
    "# OpenCV 2.4.13 only\n",
    "import numpy as np\n",
    "import cv2\n",
    "\n",
    "cap = cv2.VideoCapture('walking.avi')\n",
    "\n",
    "# Initlaize background subtractor\n",
    "foreground_background = cv2.BackgroundSubtractorMOG()\n",
    "\n",
    "while True:\n",
    "    \n",
    "    ret, frame = cap.read()\n",
    "\n",
    "    # Apply background subtractor to get our foreground mask\n",
    "    foreground_mask = foreground_background.apply(frame)\n",
    "\n",
    "    cv2.imshow('Output', foreground_mask)\n",
    "    if cv2.waitKey(1) == 13: \n",
    "        break\n",
    "\n",
    "cap.release()\n",
    "cv2.destroyAllWindows()"
   ]
  },
  {
   "cell_type": "markdown",
   "id": "5f654987",
   "metadata": {},
   "source": [
    "این کد برای جداسازی پیش‌زمینه و پس‌زمینه در یک ویدیو با استفاده از الگوریتم مخلوط گاوسی (MOG) در OpenCV نسخه 2.4.13 نوشته شده است. توضیح مراحل به شرح زیر است:\n",
    "\n",
    "- ابتدا کتابخانه‌های مورد نیاز (`numpy` و `cv2`) وارد می‌شوند.\n",
    "- ویدیوی `'walking.avi'` با استفاده از `cv2.VideoCapture` بارگذاری می‌شود.\n",
    "- یک شیء از کلاس `BackgroundSubtractorMOG` ساخته می‌شود تا مدل پس‌زمینه را ایجاد کند.\n",
    "- یک حلقه بی‌نهایت اجرا می‌شود:\n",
    "    - هر بار یک فریم از ویدیو خوانده می‌شود.\n",
    "    - با استفاده از متد `apply`، ماسک پیش‌زمینه استخراج می‌شود؛ یعنی بخش‌هایی از تصویر که متحرک هستند جدا می‌شوند.\n",
    "    - ماسک به دست آمده نمایش داده می‌شود.\n",
    "    - اگر کلید Enter فشرده شود، حلقه متوقف می‌شود.\n",
    "- در پایان، ویدیو آزاد شده و تمام پنجره‌ها بسته می‌شوند.\n",
    "\n",
    "این روش برای تشخیص حرکت و ردیابی اشیاء متحرک در ویدیو کاربرد دارد.\n"
   ]
  },
  {
   "cell_type": "markdown",
   "id": "438baf02",
   "metadata": {},
   "source": [
    "### اگر بخواهیم این روش را روی ورودی وب‌کم خود اجرا کنیم چه؟"
   ]
  },
  {
   "cell_type": "code",
   "execution_count": null,
   "id": "5b253910",
   "metadata": {},
   "outputs": [],
   "source": [
    "# OpenCV 2.4.13 only\n",
    "import numpy as np\n",
    "import cv2\n",
    "\n",
    "# Intialize Webcam\n",
    "cap = cv2.VideoCapture(0)\n",
    "\n",
    "# Initlaize background subtractor\n",
    "foreground_background = cv2.BackgroundSubtractorMOG()\n",
    "\n",
    "while True:\n",
    "    \n",
    "    ret, frame = cap.read()\n",
    "\n",
    "    # Apply background subtractor to get our foreground mask\n",
    "    foreground_mask = foreground_background.apply(frame)\n",
    "\n",
    "    cv2.imshow('Output', foreground_mask)\n",
    "    if cv2.waitKey(1) == 13: \n",
    "        break\n",
    "\n",
    "cap.release()\n",
    "cv2.destroyAllWindows()"
   ]
  },
  {
   "cell_type": "markdown",
   "id": "795a45f2",
   "metadata": {},
   "source": [
    "این کد برای جداسازی پیش‌زمینه و پس‌زمینه در تصویر دریافتی از وب‌کم با استفاده از الگوریتم مخلوط گاوسی (MOG) در OpenCV نسخه 2.4.13 نوشته شده است. مراحل کار به شرح زیر است:\n",
    "\n",
    "- ابتدا کتابخانه‌های مورد نیاز (`numpy` و `cv2`) وارد می‌شوند.\n",
    "- وب‌کم با استفاده از `cv2.VideoCapture(0)` فعال می‌شود.\n",
    "- یک شیء از کلاس `BackgroundSubtractorMOG` ساخته می‌شود تا مدل پس‌زمینه را ایجاد کند.\n",
    "- یک حلقه بی‌نهایت اجرا می‌شود:\n",
    "    - هر بار یک فریم از وب‌کم خوانده می‌شود.\n",
    "    - با استفاده از متد `apply`، ماسک پیش‌زمینه استخراج می‌شود؛ یعنی بخش‌هایی از تصویر که متحرک هستند جدا می‌شوند.\n",
    "    - ماسک به دست آمده نمایش داده می‌شود.\n",
    "    - اگر کلید Enter فشرده شود، حلقه متوقف می‌شود.\n",
    "- در پایان، وب‌کم آزاد شده و تمام پنجره‌ها بسته می‌شوند.\n",
    "\n",
    "این روش برای تشخیص حرکت و ردیابی اشیاء متحرک در تصویر وب‌کم کاربرد دارد.\n"
   ]
  },
  {
   "cell_type": "markdown",
   "id": "9f115fec",
   "metadata": {},
   "source": [
    "### بیایید مدل مخلوط گاوسی تطبیقی بهبود یافته را برای تفریق پس‌زمینه امتحان کنیم"
   ]
  },
  {
   "cell_type": "code",
   "execution_count": null,
   "id": "16b6b5ff",
   "metadata": {},
   "outputs": [],
   "source": [
    "# OpenCV 2.4.13\n",
    "import numpy as np\n",
    "import cv2\n",
    "\n",
    "cap = cv2.VideoCapture('walking.avi')\n",
    "\n",
    "# Initlaize background subtractor\n",
    "foreground_background = cv2.BackgroundSubtractorMOG2()\n",
    "\n",
    "while True:\n",
    "    ret, frame = cap.read()\n",
    "\n",
    "    # Apply background subtractor to get our foreground mask\n",
    "    foreground_mask = foreground_background.apply(frame)\n",
    "\n",
    "    cv2.imshow('Output', foreground_mask)\n",
    "    if cv2.waitKey(1) == 13: \n",
    "        break\n",
    "\n",
    "cap.release()\n",
    "cv2.destroyAllWindows()"
   ]
  },
  {
   "cell_type": "markdown",
   "id": "963ae2d1",
   "metadata": {},
   "source": [
    "این کد برای جداسازی پیش‌زمینه و پس‌زمینه در یک ویدیو با استفاده از الگوریتم مخلوط گاوسی تطبیقی (MOG2) در OpenCV نسخه 2.4.13 نوشته شده است. مراحل کار به شرح زیر است:\n",
    "\n",
    "- ابتدا کتابخانه‌های مورد نیاز (`numpy` و `cv2`) وارد می‌شوند.\n",
    "- ویدیوی `'walking.avi'` با استفاده از `cv2.VideoCapture` بارگذاری می‌شود.\n",
    "- یک شیء از کلاس `BackgroundSubtractorMOG2` ساخته می‌شود تا مدل پس‌زمینه را ایجاد کند.\n",
    "- یک حلقه بی‌نهایت اجرا می‌شود:\n",
    "    - هر بار یک فریم از ویدیو خوانده می‌شود.\n",
    "    - با استفاده از متد `apply`، ماسک پیش‌زمینه استخراج می‌شود؛ یعنی بخش‌هایی از تصویر که متحرک هستند جدا می‌شوند.\n",
    "    - ماسک به دست آمده نمایش داده می‌شود.\n",
    "    - اگر کلید Enter فشرده شود، حلقه متوقف می‌شود.\n",
    "- در پایان، ویدیو آزاد شده و تمام پنجره‌ها بسته می‌شوند.\n",
    "\n",
    "این روش برای تشخیص حرکت و ردیابی اشیاء متحرک در ویدیو کاربرد دارد و نسبت به نسخه قبلی (MOG) عملکرد بهتری در شرایط نوری متغیر و سایه‌ها دارد.\n"
   ]
  },
  {
   "cell_type": "markdown",
   "id": "10bfada8",
   "metadata": {},
   "source": [
    "### اعمال آن بر روی جریان وب‌کم خود"
   ]
  },
  {
   "cell_type": "code",
   "execution_count": null,
   "id": "4e0a2f7c",
   "metadata": {},
   "outputs": [],
   "source": [
    "# OpenCV 2.4.13\n",
    "import numpy as np\n",
    "import cv2\n",
    "\n",
    "# Intialize Webcam\n",
    "cap = cv2.VideoCapture(0)\n",
    "\n",
    "# Initlaize background subtractor\n",
    "foreground_background = cv2.BackgroundSubtractorMOG2()\n",
    "\n",
    "while True:\n",
    "    ret, frame = cap.read()\n",
    "    \n",
    "    # Apply background subtractor to get our foreground mask\n",
    "    foreground_mask = foreground_background.apply(frame)\n",
    "\n",
    "    cv2.imshow('Output', foreground_mask)\n",
    "    if cv2.waitKey(1) == 13: \n",
    "        break\n",
    "\n",
    "cap.release()\n",
    "cv2.destroyAllWindows()"
   ]
  },
  {
   "cell_type": "markdown",
   "id": "08a45725",
   "metadata": {},
   "source": [
    "این کد برای جداسازی پیش‌زمینه و پس‌زمینه در تصویر دریافتی از وب‌کم با استفاده از الگوریتم مخلوط گاوسی تطبیقی (MOG2) در OpenCV نسخه 2.4.13 نوشته شده است. مراحل کار به شرح زیر است:\n",
    "\n",
    "- ابتدا کتابخانه‌های مورد نیاز (`numpy` و `cv2`) وارد می‌شوند.\n",
    "- وب‌کم با استفاده از `cv2.VideoCapture(0)` فعال می‌شود.\n",
    "- یک شیء از کلاس `BackgroundSubtractorMOG2` ساخته می‌شود تا مدل پس‌زمینه را ایجاد کند.\n",
    "- یک حلقه بی‌نهایت اجرا می‌شود:\n",
    "    - هر بار یک فریم از وب‌کم خوانده می‌شود.\n",
    "    - با استفاده از متد `apply`، ماسک پیش‌زمینه استخراج می‌شود؛ یعنی بخش‌هایی از تصویر که متحرک هستند جدا می‌شوند.\n",
    "    - ماسک به دست آمده نمایش داده می‌شود.\n",
    "    - اگر کلید Enter فشرده شود، حلقه متوقف می‌شود.\n",
    "- در پایان، وب‌کم آزاد شده و تمام پنجره‌ها بسته می‌شوند.\n",
    "\n",
    "این روش برای تشخیص حرکت و ردیابی اشیاء متحرک در تصویر وب‌کم کاربرد دارد و نسبت به نسخه قبلی (MOG) عملکرد بهتری در شرایط نوری متغیر و سایه‌ها دارد.\n"
   ]
  },
  {
   "cell_type": "markdown",
   "id": "657f1f8a",
   "metadata": {},
   "source": [
    "## تفریق پیش‌زمینه چیست؟"
   ]
  },
  {
   "cell_type": "code",
   "execution_count": null,
   "id": "ac3d139b",
   "metadata": {},
   "outputs": [],
   "source": [
    "import cv2\n",
    "import numpy as np\n",
    "\n",
    "# Initalize webacam and store first frame\n",
    "cap = cv2.VideoCapture(0)\n",
    "ret, frame = cap.read()\n",
    "\n",
    "# Create a flaot numpy array with frame values\n",
    "average = np.float32(frame)\n",
    "\n",
    "while True:\n",
    "    # Get webcam frmae\n",
    "    ret, frame = cap.read()\n",
    "    \n",
    "    # 0.01 is the weight of image, play around to see how it changes\n",
    "    cv2.accumulateWeighted(frame, average, 0.01)\n",
    "    \n",
    "    # Scales, calculates absolute values, and converts the result to 8-bit\n",
    "    background = cv2.convertScaleAbs(average)\n",
    "\n",
    "    cv2.imshow('Input', frame)\n",
    "    cv2.imshow('Disapearing Background', background)\n",
    "    \n",
    "    if cv2.waitKey(1) == 13: #13 is the Enter Key\n",
    "        break\n",
    "\n",
    "cv2.destroyAllWindows()\n",
    "cap.release()"
   ]
  },
  {
   "cell_type": "markdown",
   "id": "0ad6f0f0",
   "metadata": {},
   "source": [
    "این کد برای حذف تدریجی پس‌زمینه از تصویر دریافتی وب‌کم با استفاده از میانگین‌گیری وزنی (Background Averaging) نوشته شده است. توضیح مراحل به شرح زیر است:\n",
    "\n",
    "- ابتدا کتابخانه‌های مورد نیاز (`cv2` و `numpy`) وارد می‌شوند.\n",
    "- وب‌کم با استفاده از `cv2.VideoCapture(0)` فعال می‌شود و اولین فریم خوانده می‌شود.\n",
    "- یک آرایه‌ی شناور (`float32`) با مقادیر اولین فریم ساخته می‌شود تا به عنوان میانگین اولیه پس‌زمینه استفاده شود.\n",
    "- یک حلقه بی‌نهایت اجرا می‌شود:\n",
    "    - در هر تکرار، یک فریم جدید از وب‌کم خوانده می‌شود.\n",
    "    - با استفاده از تابع `cv2.accumulateWeighted`، میانگین وزنی بین فریم فعلی و میانگین قبلی محاسبه می‌شود. پارامتر ۰.۰۱ وزن فریم جدید را تعیین می‌کند (هرچه این عدد بزرگ‌تر باشد، پس‌زمینه سریع‌تر به‌روزرسانی می‌شود).\n",
    "    - با استفاده از `cv2.convertScaleAbs`، میانگین به تصویر ۸ بیتی تبدیل می‌شود تا قابل نمایش باشد.\n",
    "    - دو پنجره نمایش داده می‌شود: یکی تصویر ورودی و دیگری پس‌زمینه‌ی محو شونده.\n",
    "    - اگر کلید Enter فشرده شود، حلقه متوقف می‌شود.\n",
    "- در پایان، تمام پنجره‌ها بسته شده و وب‌کم آزاد می‌شود.\n",
    "\n",
    "این روش برای حذف تدریجی اجسام متحرک و نمایش پس‌زمینه‌ی ثابت کاربرد دارد.\n"
   ]
  },
  {
   "cell_type": "markdown",
   "id": "1be55e12",
   "metadata": {},
   "source": [
    "### Background Substraction KKN\n",
    "#### OpenCV 3.X only!"
   ]
  },
  {
   "cell_type": "code",
   "execution_count": null,
   "id": "73c0feb4",
   "metadata": {},
   "outputs": [],
   "source": [
    "# OpenCV 3.1.0\n",
    "import numpy as np\n",
    "import cv2\n",
    "\n",
    "cap = cv2.VideoCapture(0)\n",
    "\n",
    "kernel = cv2.getStructuringElement(cv2.MORPH_ELLIPSE,(3,3))\n",
    "fgbg = cv2.createBackgroundSubtractorKNN()\n",
    "\n",
    "while(1):\n",
    "    ret, frame = cap.read()\n",
    "\n",
    "    fgmask = fgbg.apply(frame)\n",
    "    fgmask = cv2.morphologyEx(fgmask, cv2.MORPH_OPEN, kernel)\n",
    "\n",
    "    cv2.imshow('frame',fgmask)\n",
    "    \n",
    "    if cv2.waitKey(1) == 13: \n",
    "        break\n",
    "\n",
    "cap.release()\n",
    "cv2.destroyAllWindows()"
   ]
  },
  {
   "cell_type": "markdown",
   "id": "e7825f6c",
   "metadata": {},
   "source": [
    "این کد برای جداسازی پیش‌زمینه و پس‌زمینه در تصویر دریافتی از وب‌کم با استفاده از الگوریتم KNN (K-Nearest Neighbors) در OpenCV نسخه 3.1.0 نوشته شده است. مراحل کار به شرح زیر است:\n",
    "\n",
    "- ابتدا کتابخانه‌های مورد نیاز (`numpy` و `cv2`) وارد می‌شوند.\n",
    "- وب‌کم با استفاده از `cv2.VideoCapture(0)` فعال می‌شود.\n",
    "- یک کرنل بیضوی با اندازه ۳x۳ برای عملیات مورفولوژیکی ساخته می‌شود.\n",
    "- شیء `createBackgroundSubtractorKNN` برای تفریق پس‌زمینه با الگوریتم KNN ساخته می‌شود.\n",
    "- یک حلقه بی‌نهایت اجرا می‌شود:\n",
    "    - هر بار یک فریم از وب‌کم خوانده می‌شود.\n",
    "    - با استفاده از متد `apply`، ماسک پیش‌زمینه استخراج می‌شود؛ یعنی بخش‌هایی از تصویر که متحرک هستند جدا می‌شوند.\n",
    "    - با استفاده از عملیات مورفولوژیکی `MORPH_OPEN`، نویزهای کوچک از ماسک حذف می‌شوند تا تصویر تمیزتری به دست آید.\n",
    "    - ماسک نهایی نمایش داده می‌شود.\n",
    "    - اگر کلید Enter فشرده شود، حلقه متوقف می‌شود.\n",
    "- در پایان، وب‌کم آزاد شده و تمام پنجره‌ها بسته می‌شوند.\n",
    "\n",
    "این روش برای تشخیص حرکت و ردیابی اشیاء متحرک در تصویر وب‌کم کاربرد دارد و نسبت به روش‌های قبلی در برخی شرایط عملکرد بهتری دارد.\n"
   ]
  },
  {
   "cell_type": "markdown",
   "id": "dc1138e6",
   "metadata": {},
   "source": []
  }
 ],
 "metadata": {
  "language_info": {
   "name": "python"
  }
 },
 "nbformat": 4,
 "nbformat_minor": 5
}
