{
 "cells": [
  {
   "cell_type": "markdown",
   "id": "6189f819",
   "metadata": {},
   "source": [
    "# Image manipulations & Processing"
   ]
  },
  {
   "cell_type": "markdown",
   "id": "5755828e",
   "metadata": {},
   "source": [
    "## Transformations"
   ]
  },
  {
   "cell_type": "markdown",
   "id": "b4834a55",
   "metadata": {},
   "source": [
    "\n",
    "### تبدیل‌ها (Transformations)\n",
    "\n",
    "تبدیل‌ها در پردازش تصویر به معنای اعمال تغییرات بر روی تصاویر برای بهبود، تغییر شکل، یا استخراج ویژگی‌های خاص از آن‌ها است. این تغییرات می‌توانند شامل چرخش، تغییر اندازه، برش، وارونگی، تغییر شدت روشنایی و کنتراست، و یا اعمال فیلترهای مختلف باشند. هدف اصلی تبدیل‌ها آماده‌سازی تصاویر برای تحلیل‌های بعدی یا بهبود کیفیت نمایش آن‌ها است.\n",
    "\n",
    "**:مدل های مختلف تبدیل ها**\n",
    "- وابسته (Affine)\n",
    "- غیر وابسته (Non-affine)\n",
    "\n",
    "**تبدیل‌های وابسته (Affine):**  \n",
    "تبدیل‌های وابسته نوعی از تبدیل‌ها هستند که در آن‌ها خطوط مستقیم به خطوط مستقیم تبدیل می‌شوند و نسبت‌های بین نقاط حفظ می‌شود. این تبدیل‌ها شامل انتقال (Translation)، چرخش (Rotation)، مقیاس‌بندی (Scaling)، و برش (Shearing) هستند. در این نوع تبدیل‌ها، موازی بودن خطوط نیز حفظ می‌شود.\n",
    "\n",
    "**تبدیل‌های غیر وابسته (Non-affine):**  \n",
    "تبدیل‌های غیر وابسته شامل تغییراتی هستند که در آن‌ها خطوط مستقیم ممکن است به خطوط منحنی تبدیل شوند و نسبت‌های بین نقاط لزوماً حفظ نمی‌شود. این تبدیل‌ها معمولاً برای تغییر شکل‌های پیچیده‌تر مانند اعوجاج (Distortion) یا تغییرات غیرخطی استفاده می‌شوند. این نوع تبدیل‌ها برای کاربردهایی مانند مدل‌سازی تغییرات پیچیده در تصاویر یا تطبیق تصاویر با سطوح منحنی استفاده می‌شوند."
   ]
  },
  {
   "cell_type": "markdown",
   "id": "2a01cb6d",
   "metadata": {},
   "source": [
    "## Moving up,down,left and right"
   ]
  },
  {
   "cell_type": "code",
   "execution_count": null,
   "id": "4d6d1c58",
   "metadata": {
    "vscode": {
     "languageId": "markdown"
    }
   },
   "outputs": [],
   "source": []
  }
 ],
 "metadata": {
  "kernelspec": {
   "display_name": "base",
   "language": "python",
   "name": "python3"
  },
  "language_info": {
   "codemirror_mode": {
    "name": "ipython",
    "version": 3
   },
   "file_extension": ".py",
   "mimetype": "text/x-python",
   "name": "python",
   "nbconvert_exporter": "python",
   "pygments_lexer": "ipython3",
   "version": "3.12.7"
  }
 },
 "nbformat": 4,
 "nbformat_minor": 5
}
