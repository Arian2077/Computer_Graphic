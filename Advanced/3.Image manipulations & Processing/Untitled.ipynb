{
 "cells": [
  {
   "cell_type": "markdown",
   "id": "6189f819",
   "metadata": {},
   "source": [
    "# Image manipulations & Processing"
   ]
  },
  {
   "cell_type": "markdown",
   "id": "5755828e",
   "metadata": {},
   "source": [
    "## Transformations"
   ]
  },
  {
   "cell_type": "markdown",
   "id": "b4834a55",
   "metadata": {},
   "source": [
    "\n",
    "### تبدیل‌ها (Transformations)\n",
    "\n",
    "تبدیل‌ها در پردازش تصویر به معنای اعمال تغییرات بر روی تصاویر برای بهبود، تغییر شکل، یا استخراج ویژگی‌های خاص از آن‌ها است. این تغییرات می‌توانند شامل چرخش، تغییر اندازه، برش، وارونگی، تغییر شدت روشنایی و کنتراست، و یا اعمال فیلترهای مختلف باشند. هدف اصلی تبدیل‌ها آماده‌سازی تصاویر برای تحلیل‌های بعدی یا بهبود کیفیت نمایش آن‌ها است.\n",
    "\n",
    "**:مدل های مختلف تبدیل ها**\n",
    "- وابسته (Affine)\n",
    "- غیر وابسته (Non-affine)\n",
    "\n",
    "**تبدیل‌های وابسته (Affine):**  \n",
    "تبدیل‌های وابسته نوعی از تبدیل‌ها هستند که در آن‌ها خطوط مستقیم به خطوط مستقیم تبدیل می‌شوند و نسبت‌های بین نقاط حفظ می‌شود. این تبدیل‌ها شامل انتقال (Translation)، چرخش (Rotation)، مقیاس‌بندی (Scaling)، و برش (Shearing) هستند. در این نوع تبدیل‌ها، موازی بودن خطوط نیز حفظ می‌شود.\n",
    "\n",
    "**تبدیل‌های غیر وابسته (Non-affine):**  \n",
    "تبدیل‌های غیر وابسته شامل تغییراتی هستند که در آن‌ها خطوط مستقیم ممکن است به خطوط منحنی تبدیل شوند و نسبت‌های بین نقاط لزوماً حفظ نمی‌شود. این تبدیل‌ها معمولاً برای تغییر شکل‌های پیچیده‌تر مانند اعوجاج (Distortion) یا تغییرات غیرخطی استفاده می‌شوند. این نوع تبدیل‌ها برای کاربردهایی مانند مدل‌سازی تغییرات پیچیده در تصاویر یا تطبیق تصاویر با سطوح منحنی استفاده می‌شوند."
   ]
  },
  {
   "cell_type": "markdown",
   "id": "2a01cb6d",
   "metadata": {},
   "source": [
    "## Moving up,down,left and right\n",
    "\n",
    "### ماتریس تبدیل\n",
    "\n",
    "ماتریس تبدیل برای جابه‌جایی تصویر به صورت افقی و عمودی به کار می‌رود. این ماتریس به شکل زیر تعریف می‌شود:\n",
    "\n",
    "**T = [[1 0 Tx]**  \n",
    "&nbsp;&nbsp;&nbsp;&nbsp;&nbsp;&nbsp;**[0 1 Ty]]**\n",
    "\n",
    "- **Tx**: مقدار جابه‌جایی در جهت افقی (چپ و راست)  \n",
    "- **Ty**: مقدار جابه‌جایی در جهت عمودی (بالا و پایین)  \n",
    "\n",
    "این مقادیر تعیین می‌کنند که تصویر به چه میزان و در چه جهتی جابه‌جا شود."
   ]
  },
  {
   "cell_type": "code",
   "execution_count": 3,
   "id": "5b1b5113",
   "metadata": {},
   "outputs": [],
   "source": [
    "import cv2\n",
    "import numpy as np\n",
    "\n",
    "image = cv2.imread('image.jpg')\n",
    "\n",
    "# Store height and width of the image\n",
    "height , width = image.shape[:2]\n",
    "\n",
    "quarter_height , quarter_width = height // 4, width // 4\n",
    "\n",
    "#       | 1   0   Tx |\n",
    "# T  =  | 0   1   Ty |\n",
    "\n",
    "# T is our translation matrix\n",
    "T = np.float32([[1, 0, quarter_width], [0, 1, quarter_height]])\n",
    "\n",
    "#We use warpAffine to apply the translation matrix to the image\n",
    "translated_image = cv2.warpAffine(image, T, (width, height))\n",
    "cv2.imshow('Translated Image', translated_image)\n",
    "cv2.waitKey(0)\n",
    "cv2.destroyAllWindows()"
   ]
  },
  {
   "cell_type": "markdown",
   "id": "0589603c",
   "metadata": {},
   "source": [
    "## Rotation\n",
    "\n",
    "### ماتریس چرخش\n",
    "\n",
    "ماتریس چرخش برای چرخاندن تصویر حول یک نقطه مشخص (معمولاً مرکز تصویر) به کار می‌رود. این ماتریس به شکل زیر تعریف می‌شود:\n",
    "\n",
    "**R = [[cos(θ) -sin(θ) 0]**  \n",
    "&nbsp;&nbsp;&nbsp;&nbsp;&nbsp;&nbsp;**[sin(θ)  cos(θ) 0]]**\n",
    "\n",
    "- **θ**: زاویه چرخش (بر حسب درجه یا رادیان)  \n",
    "- **cos(θ)** و **sin(θ)**: مقادیر کسینوس و سینوس زاویه چرخش  \n",
    "\n",
    "این مقادیر تعیین می‌کنند که تصویر به چه میزان و در چه جهتی (ساعت‌گرد یا پادساعت‌گرد) چرخانده شود."
   ]
  },
  {
   "cell_type": "code",
   "execution_count": 4,
   "id": "27fd2b80",
   "metadata": {},
   "outputs": [],
   "source": [
    "import cv2\n",
    "import numpy as np\n",
    "\n",
    "image = cv2.imread('image.jpg')\n",
    "height , width = image.shape[:2]\n",
    "\n",
    "# Divide by two to rotate the image around its center\n",
    "rotation_matrix = cv2.getRotationMatrix2D((width / 2, height / 2), 90, 1)\n",
    "rotated_image = cv2.warpAffine(image, rotation_matrix, (width, height))\n",
    "\n",
    "\n",
    "cv2.imshow('Rotated Image', rotated_image)\n",
    "cv2.waitKey(0)\n",
    "cv2.destroyAllWindows()"
   ]
  },
  {
   "cell_type": "markdown",
   "id": "9c3260ce",
   "metadata": {},
   "source": [
    "### از بین بردن قسمت های سیاه تصویر"
   ]
  },
  {
   "cell_type": "code",
   "execution_count": 5,
   "id": "0b3c1a23",
   "metadata": {},
   "outputs": [],
   "source": [
    "rotated_image = cv2.transpose(image)\n",
    "\n",
    "cv2.imshow('Transposed Image', rotated_image)\n",
    "cv2.waitKey(0)\n",
    "cv2.destroyAllWindows()"
   ]
  },
  {
   "cell_type": "markdown",
   "id": "6245c0ca",
   "metadata": {},
   "source": []
  }
 ],
 "metadata": {
  "kernelspec": {
   "display_name": "base",
   "language": "python",
   "name": "python3"
  },
  "language_info": {
   "codemirror_mode": {
    "name": "ipython",
    "version": 3
   },
   "file_extension": ".py",
   "mimetype": "text/x-python",
   "name": "python",
   "nbconvert_exporter": "python",
   "pygments_lexer": "ipython3",
   "version": "3.12.7"
  }
 },
 "nbformat": 4,
 "nbformat_minor": 5
}
