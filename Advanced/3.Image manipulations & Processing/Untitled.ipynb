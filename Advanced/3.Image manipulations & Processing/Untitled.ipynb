{
 "cells": [
  {
   "cell_type": "markdown",
   "id": "6189f819",
   "metadata": {},
   "source": [
    "# Image manipulations & Processing"
   ]
  },
  {
   "cell_type": "markdown",
   "id": "5755828e",
   "metadata": {},
   "source": [
    "## Transformations"
   ]
  },
  {
   "cell_type": "markdown",
   "id": "b4834a55",
   "metadata": {},
   "source": [
    "\n",
    "### تبدیل‌ها (Transformations)\n",
    "\n",
    "تبدیل‌ها در پردازش تصویر به معنای اعمال تغییرات بر روی تصاویر برای بهبود، تغییر شکل، یا استخراج ویژگی‌های خاص از آن‌ها است. این تغییرات می‌توانند شامل چرخش، تغییر اندازه، برش، وارونگی، تغییر شدت روشنایی و کنتراست، و یا اعمال فیلترهای مختلف باشند. هدف اصلی تبدیل‌ها آماده‌سازی تصاویر برای تحلیل‌های بعدی یا بهبود کیفیت نمایش آن‌ها است.\n",
    "\n",
    "**:مدل های مختلف تبدیل ها**\n",
    "- وابسته (Affine)\n",
    "- غیر وابسته (Non-affine)\n",
    "\n",
    "**تبدیل‌های وابسته (Affine):**  \n",
    "تبدیل‌های وابسته نوعی از تبدیل‌ها هستند که در آن‌ها خطوط مستقیم به خطوط مستقیم تبدیل می‌شوند و نسبت‌های بین نقاط حفظ می‌شود. این تبدیل‌ها شامل انتقال (Translation)، چرخش (Rotation)، مقیاس‌بندی (Scaling)، و برش (Shearing) هستند. در این نوع تبدیل‌ها، موازی بودن خطوط نیز حفظ می‌شود.\n",
    "\n",
    "**تبدیل‌های غیر وابسته (Non-affine):**  \n",
    "تبدیل‌های غیر وابسته شامل تغییراتی هستند که در آن‌ها خطوط مستقیم ممکن است به خطوط منحنی تبدیل شوند و نسبت‌های بین نقاط لزوماً حفظ نمی‌شود. این تبدیل‌ها معمولاً برای تغییر شکل‌های پیچیده‌تر مانند اعوجاج (Distortion) یا تغییرات غیرخطی استفاده می‌شوند. این نوع تبدیل‌ها برای کاربردهایی مانند مدل‌سازی تغییرات پیچیده در تصاویر یا تطبیق تصاویر با سطوح منحنی استفاده می‌شوند."
   ]
  },
  {
   "cell_type": "markdown",
   "id": "2a01cb6d",
   "metadata": {},
   "source": [
    "## Moving up,down,left and right\n",
    "\n",
    "### ماتریس تبدیل\n",
    "\n",
    "ماتریس تبدیل برای جابه‌جایی تصویر به صورت افقی و عمودی به کار می‌رود. این ماتریس به شکل زیر تعریف می‌شود:\n",
    "\n",
    "**T = [[1 0 Tx]**  \n",
    "&nbsp;&nbsp;&nbsp;&nbsp;&nbsp;&nbsp;**[0 1 Ty]]**\n",
    "\n",
    "- **Tx**: مقدار جابه‌جایی در جهت افقی (چپ و راست)  \n",
    "- **Ty**: مقدار جابه‌جایی در جهت عمودی (بالا و پایین)  \n",
    "\n",
    "این مقادیر تعیین می‌کنند که تصویر به چه میزان و در چه جهتی جابه‌جا شود."
   ]
  },
  {
   "cell_type": "code",
   "execution_count": 3,
   "id": "5b1b5113",
   "metadata": {},
   "outputs": [],
   "source": [
    "import cv2\n",
    "import numpy as np\n",
    "\n",
    "image = cv2.imread('image.jpg')\n",
    "\n",
    "# Store height and width of the image\n",
    "height , width = image.shape[:2]\n",
    "\n",
    "quarter_height , quarter_width = height // 4, width // 4\n",
    "\n",
    "#       | 1   0   Tx |\n",
    "# T  =  | 0   1   Ty |\n",
    "\n",
    "# T is our translation matrix\n",
    "T = np.float32([[1, 0, quarter_width], [0, 1, quarter_height]])\n",
    "\n",
    "#We use warpAffine to apply the translation matrix to the image\n",
    "translated_image = cv2.warpAffine(image, T, (width, height))\n",
    "cv2.imshow('Translated Image', translated_image)\n",
    "cv2.waitKey(0)\n",
    "cv2.destroyAllWindows()"
   ]
  },
  {
   "cell_type": "markdown",
   "id": "0589603c",
   "metadata": {},
   "source": [
    "## Rotation\n",
    "\n",
    "### ماتریس چرخش\n",
    "\n",
    "ماتریس چرخش برای چرخاندن تصویر حول یک نقطه مشخص (معمولاً مرکز تصویر) به کار می‌رود. این ماتریس به شکل زیر تعریف می‌شود:\n",
    "\n",
    "**R = [[cos(θ) -sin(θ) 0]**  \n",
    "&nbsp;&nbsp;&nbsp;&nbsp;&nbsp;&nbsp;**[sin(θ)  cos(θ) 0]]**\n",
    "\n",
    "- **θ**: زاویه چرخش (بر حسب درجه یا رادیان)  \n",
    "- **cos(θ)** و **sin(θ)**: مقادیر کسینوس و سینوس زاویه چرخش  \n",
    "\n",
    "این مقادیر تعیین می‌کنند که تصویر به چه میزان و در چه جهتی (ساعت‌گرد یا پادساعت‌گرد) چرخانده شود."
   ]
  },
  {
   "cell_type": "code",
   "execution_count": 4,
   "id": "27fd2b80",
   "metadata": {},
   "outputs": [],
   "source": [
    "import cv2\n",
    "import numpy as np\n",
    "\n",
    "image = cv2.imread('image.jpg')\n",
    "height , width = image.shape[:2]\n",
    "\n",
    "# Divide by two to rotate the image around its center\n",
    "rotation_matrix = cv2.getRotationMatrix2D((width / 2, height / 2), 90, 1)\n",
    "rotated_image = cv2.warpAffine(image, rotation_matrix, (width, height))\n",
    "\n",
    "\n",
    "cv2.imshow('Rotated Image', rotated_image)\n",
    "cv2.waitKey(0)\n",
    "cv2.destroyAllWindows()"
   ]
  },
  {
   "cell_type": "markdown",
   "id": "9c3260ce",
   "metadata": {},
   "source": [
    "### از بین بردن قسمت های سیاه تصویر"
   ]
  },
  {
   "cell_type": "code",
   "execution_count": 5,
   "id": "0b3c1a23",
   "metadata": {},
   "outputs": [],
   "source": [
    "rotated_image = cv2.transpose(image)\n",
    "\n",
    "cv2.imshow('Transposed Image', rotated_image)\n",
    "cv2.waitKey(0)\n",
    "cv2.destroyAllWindows()"
   ]
  },
  {
   "cell_type": "markdown",
   "id": "ac888f25",
   "metadata": {},
   "source": [
    "## Re-sizing, Scaling & Interpolation\n",
    "\n",
    "**تغییر اندازه (Re-sizing):**  \n",
    "تغییر اندازه به معنای تغییر ابعاد تصویر (عرض و ارتفاع) است. این فرآیند می‌تواند برای کوچک‌تر یا بزرگ‌تر کردن تصویر استفاده شود. تغییر اندازه معمولاً برای تطبیق تصویر با ابعاد خاص یا کاهش حجم داده‌ها به کار می‌رود.\n",
    "\n",
    "**مقیاس‌بندی (Scaling):**  \n",
    "مقیاس‌بندی به معنای تغییر اندازه تصویر با حفظ نسبت ابعاد اصلی آن است. در این فرآیند، تصویر به صورت یکنواخت بزرگ‌تر یا کوچک‌تر می‌شود تا از تغییر شکل غیرطبیعی جلوگیری شود.\n",
    "\n",
    "**درون‌یابی (Interpolation):**  \n",
    "درون‌یابی فرآیندی است که برای تعیین مقادیر پیکسل‌های جدید در هنگام تغییر اندازه یا مقیاس‌بندی تصویر استفاده می‌شود. این فرآیند شامل روش‌هایی مانند نزدیک‌ترین همسایه (Nearest Neighbor)، دوخطی (Bilinear) و دوکعبی (Bicubic) است. انتخاب روش مناسب درون‌یابی می‌تواند بر کیفیت تصویر نهایی تأثیر بگذارد. از مدل‌های مختلف درون‌یابی می‌توان به:\n",
    "\n",
    "- **cv2.INTER_AREA** - مناسب برای کوچک کردن تصویر  \n",
    "- **cv2.INTER_NEAREST** - سریع‌ترین روش، اما با کیفیت پایین‌تر  \n",
    "- **cv2.INTER_LINEAR** - پیش‌فرض برای بزرگ کردن تصویر  \n",
    "- **cv2.INTER_CUBIC** - کیفیت بالاتر برای بزرگ کردن تصویر، اما کندتر(از قبلی بهتره)  \n",
    "- **cv2.INTER_LANCZOS4** - کیفیت بالا برای تغییر اندازه، اما بسیار کند(از همه بهتره)  "
   ]
  },
  {
   "cell_type": "code",
   "execution_count": 7,
   "id": "3e9b1906",
   "metadata": {},
   "outputs": [],
   "source": [
    "import cv2\n",
    "import numpy as np\n",
    "\n",
    "image = cv2.imread('image.jpg')\n",
    "\n",
    "# let's make our image 3/4 of its original size\n",
    "image_scaled = cv2.resize(image, None, fx=0.75,fy=0.75)\n",
    "cv2.imshow('Scaled Image - Linear Interpolation', image_scaled)\n",
    "cv2.waitKey()\n",
    "\n",
    "# let's double the size of our image\n",
    "image_scaled = cv2.resize(image, None, fx=2,fy=2, interpolation=cv2.INTER_CUBIC)\n",
    "cv2.imshow('Scaled Image - Cubic Interpolation', image_scaled)\n",
    "cv2.waitKey()\n",
    "\n",
    "# let's skew the re-sizing by setting exact dimensions\n",
    "image_scaled = cv2.resize(image, (900, 400), interpolation=cv2.INTER_AREA)\n",
    "cv2.imshow('Scaled Image - Area Interpolation', image_scaled)\n",
    "cv2.waitKey()\n",
    "\n",
    "cv2.destroyAllWindows()"
   ]
  },
  {
   "cell_type": "markdown",
   "id": "9577a006",
   "metadata": {},
   "source": [
    "## Image Pyramids\n",
    "در این روش، مقیاس (Scale) تصویر را بزرگ‌تر یا کوچک‌تر می‌کنیم. این کار به شما امکان می‌دهد تا از یک تصویر، نسخه‌های مختلفی با مقیاس‌های متفاوت ایجاد کنید. این تکنیک معمولاً برای پردازش چندمقیاسی (Multi-Scale Processing) و تحلیل تصاویر در سطوح مختلف جزئیات استفاده می‌شود."
   ]
  },
  {
   "cell_type": "code",
   "execution_count": 1,
   "id": "11012817",
   "metadata": {},
   "outputs": [],
   "source": [
    "import cv2\n",
    "\n",
    "# Load the image\n",
    "image = cv2.imread('image.jpg')\n",
    "\n",
    "# smaller & bigger versions of the image\n",
    "smaller = cv2.pyrDown(image)\n",
    "bigger = cv2.pyrUp(image)\n",
    "\n",
    "# Display the images\n",
    "cv2.imshow('Original Image', image)\n",
    "cv2.imshow('Smaller Image', smaller)\n",
    "cv2.imshow('Bigger Image', bigger)\n",
    "cv2.waitKey(0)\n",
    "cv2.destroyAllWindows()"
   ]
  },
  {
   "cell_type": "markdown",
   "id": "bf280b75",
   "metadata": {},
   "source": [
    "این کد برای تغییر مقیاس تصویر با استفاده از تکنیک‌های \"هرم تصویر\" (Image Pyramids) در OpenCV استفاده می‌شود. در ادامه توضیح هر بخش آورده شده است:\n",
    "\n",
    "1. **بارگذاری تصویر اصلی**  \n",
    "    ```python\n",
    "    image = cv2.imread('image.jpg')\n",
    "    ```\n",
    "    در این خط، تصویر اصلی با استفاده از تابع `cv2.imread` از فایل خوانده می‌شود و در متغیر `image` ذخیره می‌شود.\n",
    "\n",
    "2. **ایجاد نسخه کوچک‌تر تصویر**  \n",
    "    ```python\n",
    "    smaller = cv2.pyrDown(image)\n",
    "    ```\n",
    "    این خط از تابع `cv2.pyrDown` برای کوچک‌تر کردن تصویر استفاده می‌کند. این تابع ابعاد تصویر را به نصف کاهش می‌دهد و نسخه کوچک‌تر تصویر را در متغیر `smaller` ذخیره می‌کند.\n",
    "\n",
    "3. **ایجاد نسخه بزرگ‌تر تصویر**  \n",
    "    ```python\n",
    "    bigger = cv2.pyrUp(image)\n",
    "    ```\n",
    "    این خط از تابع `cv2.pyrUp` برای بزرگ‌تر کردن تصویر استفاده می‌کند. این تابع ابعاد تصویر را دو برابر می‌کند و نسخه بزرگ‌تر تصویر را در متغیر `bigger` ذخیره می‌کند.\n",
    "\n",
    "4. **نمایش تصاویر**  \n",
    "    ```python\n",
    "    cv2.imshow('Original Image', image)\n",
    "    cv2.imshow('Smaller Image', smaller)\n",
    "    cv2.imshow('Bigger Image', bigger)\n",
    "    ```\n",
    "    این خطوط از تابع `cv2.imshow` برای نمایش تصاویر استفاده می‌کنند. تصویر اصلی، نسخه کوچک‌تر و نسخه بزرگ‌تر به ترتیب در پنجره‌های جداگانه نمایش داده می‌شوند.\n",
    "\n",
    "5. **منتظر ماندن برای فشردن کلید توسط کاربر**  \n",
    "    ```python\n",
    "    cv2.waitKey(0)\n",
    "    ```\n",
    "    این خط برنامه را متوقف می‌کند تا زمانی که کاربر یک کلید را فشار دهد.\n",
    "\n",
    "6. **بستن تمام پنجره‌ها**  \n",
    "    ```python\n",
    "    cv2.destroyAllWindows()\n",
    "    ```\n",
    "    این خط تمام پنجره‌های باز شده توسط OpenCV را می‌بندد.\n"
   ]
  },
  {
   "cell_type": "markdown",
   "id": "556f5875",
   "metadata": {},
   "source": [
    "## Cropping Images\n",
    "\n",
    "برای زمانی که می خواهیم قسمت خاصی از عکس را برش دهیم\n"
   ]
  },
  {
   "cell_type": "code",
   "execution_count": 3,
   "id": "10d0d661",
   "metadata": {},
   "outputs": [],
   "source": [
    "import cv2\n",
    "import numpy as np\n",
    "\n",
    "image = cv2.imread('image.jpg')\n",
    "height , width = image.shape[:2]\n",
    "\n",
    "# Let's get the starting pixel cordinates (top left cropping rectangle)\n",
    "start_row, start_col = int(height * 0.25), int(width * 0.25)\n",
    "\n",
    "# Let's get the ending pixel cordinates (bottom right cropping rectangle)\n",
    "ending_row , ending_col = int(height * 0.75), int(width * 0.75)\n",
    "\n",
    "# Simply use indexing to crop the image\n",
    "cropped_image = image[start_row:ending_row, start_col:ending_col]\n",
    "cv2.imshow('Original Image', image)\n",
    "cv2.waitKey(0)\n",
    "cv2.imshow('Cropped Image', cropped_image)\n",
    "cv2.waitKey(0)\n",
    "cv2.destroyAllWindows()"
   ]
  },
  {
   "cell_type": "markdown",
   "id": "a9cf1f96",
   "metadata": {},
   "source": [
    "## Arithmetic Operations\n",
    "\n",
    "عملیات حسابی شامل اعمالی هستند که با اضافه کردن یا کم کردن ماتریس به تصویر، شدت روشنایی یا تاریکی تصویر را تغییر می‌دهند. این عملیات می‌توانند برای بهبود کیفیت تصویر یا ایجاد جلوه‌های خاص استفاده شوند."
   ]
  },
  {
   "cell_type": "code",
   "execution_count": null,
   "id": "e4bfb476",
   "metadata": {},
   "outputs": [],
   "source": [
    "import cv2\n",
    "import numpy as np\n",
    "\n",
    "# Load the image from the file 'image.jpg'\n",
    "image = cv2.imread('image.jpg')  \n",
    "\n",
    "# Create a matrix of ones with the same shape as the image, scaled by 75\n",
    "M = np.ones(image.shape, dtype=\"uint8\") * 75  \n",
    "\n",
    "# Add the matrix M to the image to increase brightness\n",
    "added = cv2.add(image, M) \n",
    "cv2.imshow('Added Image', added)  \n",
    "cv2.waitKey(0)\n",
    "\n",
    "# Subtract the matrix M from the image to decrease brightness \n",
    "subtracted = cv2.subtract(image, M)  \n",
    "cv2.imshow('Added Image', subtracted) \n",
    "cv2.waitKey(0)\n",
    "cv2.destroyAllWindows()   "
   ]
  },
  {
   "cell_type": "markdown",
   "id": "9eebd8e9",
   "metadata": {},
   "source": [
    "## Bitwise Operations & Masking\n",
    "\n",
    "عملیات بیتی در پردازش تصویر برای ترکیب، مقایسه یا تغییر بخش‌هایی از تصویر استفاده می‌شوند. این عملیات شامل AND، OR، XOR و NOT هستند که به صورت بیتی بر روی مقادیر پیکسل‌ها اعمال می‌شوند. از این عملیات می‌توان برای ایجاد ماسک‌ها یا ترکیب تصاویر استفاده کرد.\n",
    "\n",
    "### Masking\n",
    "ماسک‌گذاری فرآیندی است که در آن بخشی از تصویر با استفاده از یک ماسک (تصویر باینری) انتخاب یا حذف می‌شود. ماسک معمولاً یک تصویر سیاه و سفید است که در آن نواحی سفید نشان‌دهنده بخش‌هایی از تصویر اصلی هستند که باید حفظ شوند و نواحی سیاه نشان‌دهنده بخش‌هایی هستند که باید حذف شوند."
   ]
  },
  {
   "cell_type": "code",
   "execution_count": 8,
   "id": "dba9779e",
   "metadata": {},
   "outputs": [],
   "source": [
    "import cv2\n",
    "import numpy as np\n",
    "\n",
    "# Making a square\n",
    "square = np.zeros((300, 300), dtype=\"uint8\")\n",
    "cv2.rectangle(square, (50, 50), (250, 250), 255, -2)\n",
    "cv2.imshow('Square', square)\n",
    "cv2.waitKey(0)\n",
    "\n",
    "# Making a ellipse\n",
    "ellipse = np.zeros((300, 300), dtype=\"uint8\")\n",
    "cv2.ellipse(ellipse, (150, 150), (150, 150), 30, 0, 180, 255, -1)\n",
    "cv2.imshow('ellipes', ellipse)\n",
    "cv2.waitKey(0)\n",
    "\n",
    "cv2.destroyAllWindows()"
   ]
  },
  {
   "cell_type": "markdown",
   "id": "4a0a8ed3",
   "metadata": {},
   "source": [
    "### امتحان کردن با عملیات بیتی"
   ]
  },
  {
   "cell_type": "code",
   "execution_count": null,
   "id": "29620d96",
   "metadata": {},
   "outputs": [],
   "source": [
    "# show only where interesect\n",
    "And = cv2.bitwise_and(square, ellipse)\n",
    "cv2.imshow('And',And)\n",
    "cv2.waitKey(0)\n",
    "\n",
    "# show where either one is present\n",
    "Or = cv2.bitwise_or(square, ellipse)\n",
    "cv2.imshow('Or',Or)\n",
    "cv2.waitKey(0)\n",
    "\n",
    "# show where one is present but not the other\n",
    "Xor = cv2.bitwise_xor(square, ellipse)\n",
    "cv2.imshow('Xor',Xor)\n",
    "cv2.waitKey(0)\n",
    "\n",
    "# show where the first shape is not present\n",
    "Not = cv2.bitwise_not(square)\n",
    "cv2.imshow('Not',Not)\n",
    "cv2.waitKey(0)\n",
    "\n",
    "cv2.destroyAllWindows()"
   ]
  },
  {
   "cell_type": "code",
   "execution_count": null,
   "id": "92cc640f",
   "metadata": {},
   "outputs": [],
   "source": []
  }
 ],
 "metadata": {
  "kernelspec": {
   "display_name": "base",
   "language": "python",
   "name": "python3"
  },
  "language_info": {
   "codemirror_mode": {
    "name": "ipython",
    "version": 3
   },
   "file_extension": ".py",
   "mimetype": "text/x-python",
   "name": "python",
   "nbconvert_exporter": "python",
   "pygments_lexer": "ipython3",
   "version": "3.12.7"
  }
 },
 "nbformat": 4,
 "nbformat_minor": 5
}
