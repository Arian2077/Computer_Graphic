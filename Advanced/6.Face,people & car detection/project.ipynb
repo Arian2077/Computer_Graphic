{
 "cells": [
  {
   "cell_type": "markdown",
   "id": "37e317bd",
   "metadata": {},
   "source": [
    "## Car & Pedestrian Detection\n",
    "\n",
    "**توجه**\n",
    "- اگر پس از اجرای کد، ویدیو بارگذاری نشد، ممکن است لازم باشد فایل *opencv_ffmpeg.dll* خود را کپی کنید.\n",
    "- از مسیر: *C:\\opencv2413\\opencv\\sources\\3rdparty\\ffmpeg*\n",
    "- به: جایی که پایتون شما نصب شده است، مثلاً *C:\\Anaconda2\\*\n",
    "- پس از کپی کردن، باید نام فایل را مطابق با نسخه OpenCV خود تغییر دهید.\n",
    "- به عنوان مثال، اگر از OpenCV 2.4.13 استفاده می‌کنید، نام فایل را به این صورت تغییر دهید:\n",
    "- **opencv_ffmpeg2413_64.dll** یا opencv_ffmpeg2413.dll (اگر از سیستم X86 استفاده می‌کنید)\n",
    "- **opencv_ffmpeg310_64.dll** یا opencv_ffmpeg310.dll (اگر از سیستم X86 استفاده می‌کنید)\n",
    "\n",
    "برای اینکه بفهمید python.exe شما کجا نصب شده است، فقط این دو خط کد را اجرا کنید:"
   ]
  },
  {
   "cell_type": "code",
   "execution_count": 1,
   "id": "84166a62",
   "metadata": {},
   "outputs": [
    {
     "name": "stdout",
     "output_type": "stream",
     "text": [
      "c:\\Users\\Tehran\\anaconda3\\python.exe\n"
     ]
    }
   ],
   "source": [
    "import sys\n",
    "print(sys.executable)"
   ]
  },
  {
   "cell_type": "markdown",
   "id": "d63bf0df",
   "metadata": {},
   "source": [
    "### Pedistrian Detection"
   ]
  },
  {
   "cell_type": "code",
   "execution_count": 2,
   "id": "be8c9957",
   "metadata": {},
   "outputs": [],
   "source": [
    "import cv2\n",
    "import numpy as np\n",
    "\n",
    "# Create our body classifier\n",
    "body_classifier = cv2.CascadeClassifier(r'Haarcascades\\haarcascade_fullbody.xml')\n",
    "\n",
    "# Initiate video capture for video file\n",
    "cap = cv2.VideoCapture('images/walking.avi')\n",
    "\n",
    "# Loop once video is successfully loaded\n",
    "while cap.isOpened():\n",
    "    \n",
    "    # Read first frame\n",
    "    ret, frame = cap.read()\n",
    "    if not ret:\n",
    "        break  # Exit loop if no frame is returned\n",
    "\n",
    "    frame = cv2.resize(frame, None, fx=0.5, fy=0.5, interpolation=cv2.INTER_LINEAR)\n",
    "\n",
    "    gray = cv2.cvtColor(frame, cv2.COLOR_BGR2GRAY)\n",
    "    # Pass frame to our body classifier\n",
    "    bodies = body_classifier.detectMultiScale(gray, 1.2, 3)\n",
    "    \n",
    "    # Extract bounding boxes for any bodies identified\n",
    "    for (x, y, w, h) in bodies:\n",
    "        cv2.rectangle(frame, (x, y), (x + w, y + h), (0, 255, 255), 2)\n",
    "    \n",
    "    cv2.imshow('Pedestrians', frame)\n",
    "\n",
    "    if cv2.waitKey(1) == 13:  # 13 is the Enter Key\n",
    "        break\n",
    "\n",
    "cap.release()\n",
    "cv2.destroyAllWindows()"
   ]
  },
  {
   "cell_type": "markdown",
   "id": "cd8082a9",
   "metadata": {},
   "source": [
    "این کد برای شناسایی عابر پیاده در یک ویدیو با استفاده از OpenCV نوشته شده است. در ادامه توضیح هر بخش آورده شده است:\n",
    "\n",
    "- ابتدا کتابخانه‌های مورد نیاز (`cv2` و `numpy`) وارد می‌شوند.\n",
    "- یک طبقه‌بند (classifier) برای شناسایی بدن انسان با استفاده از فایل `haarcascade_fullbody.xml` ساخته می‌شود.\n",
    "- ویدیو با استفاده از `cv2.VideoCapture` بارگذاری می‌شود.\n",
    "- یک حلقه اجرا می‌شود تا زمانی که ویدیو باز است:\n",
    "    - هر فریم ویدیو خوانده می‌شود.\n",
    "    - اگر فریم خوانده نشود (پایان ویدیو)، حلقه متوقف می‌شود.\n",
    "    - فریم به اندازه نصف کوچک می‌شود تا پردازش سریع‌تر انجام شود.\n",
    "    - فریم به تصویر خاکستری تبدیل می‌شود.\n",
    "    - طبقه‌بند بدن روی تصویر خاکستری اعمال می‌شود تا موقعیت عابرین شناسایی شود.\n",
    "    - برای هر عابر شناسایی‌شده، یک کادر (rectangle) دور آن کشیده می‌شود.\n",
    "    - فریم با کادرهای کشیده‌شده نمایش داده می‌شود.\n",
    "    - اگر کلید Enter فشرده شود، حلقه متوقف می‌شود.\n",
    "- در پایان، منابع آزاد می‌شوند و تمام پنجره‌های باز بسته می‌شوند.\n",
    "\n",
    "این کد برای شناسایی و نمایش عابرین پیاده در ویدیوهای ورودی کاربرد دارد.\n",
    "\n",
    "### Car Detection\n",
    "\n"
   ]
  },
  {
   "cell_type": "code",
   "execution_count": 1,
   "id": "9154ae9b",
   "metadata": {},
   "outputs": [],
   "source": [
    "import cv2\n",
    "import time\n",
    "import numpy as np\n",
    "\n",
    "# Create our body classifier\n",
    "car_classifier = cv2.CascadeClassifier(r'Haarcascades\\haarcascade_car.xml')\n",
    "\n",
    "# Initiate video capture for video file\n",
    "cap = cv2.VideoCapture('images/cars.avi')\n",
    "\n",
    "\n",
    "# Loop once video is successfully loaded\n",
    "while cap.isOpened():\n",
    "    \n",
    "    time.sleep(.05)\n",
    "    # Read first frame\n",
    "    ret, frame = cap.read()\n",
    "    if not ret:\n",
    "        break  # Exit loop if no frame is returned\n",
    "\n",
    "    gray = cv2.cvtColor(frame, cv2.COLOR_BGR2GRAY)\n",
    "   \n",
    "    # Pass frame to our car classifier\n",
    "    cars = car_classifier.detectMultiScale(gray, 1.4, 2)\n",
    "    \n",
    "    # Extract bounding boxes for any cars identified\n",
    "    for (x, y, w, h) in cars:\n",
    "        cv2.rectangle(frame, (x, y), (x + w, y + h), (0, 255, 255), 2)\n",
    "    \n",
    "    cv2.imshow('Cars', frame)\n",
    "\n",
    "    if cv2.waitKey(1) == 13: #13 is the Enter Key\n",
    "        break\n",
    "\n",
    "cap.release()\n",
    "cv2.destroyAllWindows()"
   ]
  },
  {
   "cell_type": "markdown",
   "id": "46f10a43",
   "metadata": {},
   "source": [
    "این کد برای شناسایی خودروها در یک ویدیو با استفاده از OpenCV نوشته شده است. توضیح بخش‌های مختلف کد به شرح زیر است:\n",
    "\n",
    "- ابتدا کتابخانه‌های مورد نیاز (`cv2`، `time` و `numpy`) وارد می‌شوند.\n",
    "- یک طبقه‌بند (classifier) برای شناسایی خودرو با استفاده از فایل `haarcascade_car.xml` ساخته می‌شود.\n",
    "- ویدیو با استفاده از `cv2.VideoCapture` بارگذاری می‌شود.\n",
    "- یک حلقه اجرا می‌شود تا زمانی که ویدیو باز است:\n",
    "    - با دستور `time.sleep(.05)` کمی مکث ایجاد می‌شود تا پردازش سریع انجام نشود.\n",
    "    - هر فریم ویدیو خوانده می‌شود.\n",
    "    - اگر فریم خوانده نشود (پایان ویدیو)، حلقه متوقف می‌شود.\n",
    "    - فریم به تصویر خاکستری تبدیل می‌شود.\n",
    "    - طبقه‌بند خودرو روی تصویر خاکستری اعمال می‌شود تا موقعیت خودروها شناسایی شود.\n",
    "    - برای هر خودرو شناسایی‌شده، یک کادر (rectangle) دور آن کشیده می‌شود.\n",
    "    - فریم با کادرهای کشیده‌شده نمایش داده می‌شود.\n",
    "    - اگر کلید Enter فشرده شود، حلقه متوقف می‌شود.\n",
    "- در پایان، منابع آزاد می‌شوند و تمام پنجره‌های باز بسته می‌شوند.\n",
    "\n",
    "این کد برای شناسایی و نمایش خودروها در ویدیوهای ورودی کاربرد دارد.\n"
   ]
  }
 ],
 "metadata": {
  "kernelspec": {
   "display_name": "base",
   "language": "python",
   "name": "python3"
  },
  "language_info": {
   "codemirror_mode": {
    "name": "ipython",
    "version": 3
   },
   "file_extension": ".py",
   "mimetype": "text/x-python",
   "name": "python",
   "nbconvert_exporter": "python",
   "pygments_lexer": "ipython3",
   "version": "3.12.7"
  }
 },
 "nbformat": 4,
 "nbformat_minor": 5
}
