{
 "cells": [
  {
   "cell_type": "markdown",
   "id": "9d98d982-b0ee-4f17-9812-b01694bc7545",
   "metadata": {},
   "source": [
    "## Mini Project - Live Sketch Using Webcam"
   ]
  },
  {
   "cell_type": "code",
   "execution_count": null,
   "id": "db90a1ff",
   "metadata": {},
   "outputs": [],
   "source": [
    "import cv2\n",
    "import numpy as np\n",
    "\n",
    "def sketch(image):\n",
    "    # Convert the image to grayscale\n",
    "    gray = cv2.cvtColor(image, cv2.COLOR_BGR2GRAY)\n",
    "    \n",
    "    # Apply Gaussian Blur\n",
    "    gray_blur = cv2.GaussianBlur(gray, (5, 5), 0)\n",
    "    \n",
    "    # Extract edges using Canny edge detection\n",
    "    edges = cv2.Canny(gray_blur, 10, 70)\n",
    "    \n",
    "    # Invert the binary image\n",
    "    _, sketch = cv2.threshold(edges, 70, 255, cv2.THRESH_BINARY_INV)\n",
    "    return sketch\n",
    "\n",
    "# Open the webcam\n",
    "cap = cv2.VideoCapture(0)\n",
    "\n",
    "while True:\n",
    "    ret, frame = cap.read()\n",
    "    if not ret:\n",
    "        break\n",
    "    \n",
    "    # Apply the sketch function\n",
    "    sketch_frame = sketch(frame)\n",
    "    \n",
    "    # Display the sketch\n",
    "    cv2.imshow('Live Sketch', sketch_frame)\n",
    "    \n",
    "    # Break the loop on pressing 'q'\n",
    "    if cv2.waitKey(1) & 0xFF == ord('q'):\n",
    "        break\n",
    "\n",
    "# Release the webcam and close windows\n",
    "cap.release()\n",
    "cv2.destroyAllWindows()"
   ]
  },
  {
   "cell_type": "markdown",
   "id": "e1cb46f7",
   "metadata": {},
   "source": [
    "## توضیح کد - ایجاد طرح زنده با استفاده از وب‌کم\n",
    "\n",
    "این کد یک پروژه کوچک برای ایجاد یک طرح زنده از تصویر وب‌کم است. در ادامه توضیحات بخش‌های مختلف کد آورده شده است:\n",
    "\n",
    "1. **وارد کردن کتابخانه‌ها**:\n",
    "    - `cv2`: برای کار با تصاویر و ویدیوها با استفاده از OpenCV.\n",
    "    - `numpy`: برای انجام عملیات عددی و پردازش ماتریس‌ها.\n",
    "\n",
    "2. **تعریف تابع `sketch`**:\n",
    "    - این تابع یک تصویر را به عنوان ورودی دریافت می‌کند و مراحل زیر را روی آن اعمال می‌کند:\n",
    "      - **تبدیل به تصویر خاکستری**: با استفاده از `cv2.cvtColor` تصویر به مقیاس خاکستری تبدیل می‌شود.\n",
    "      - **اعمال فیلتر گوسین بلور**: با استفاده از `cv2.GaussianBlur` نویز تصویر کاهش می‌یابد.\n",
    "      - **استخراج لبه‌ها**: با استفاده از الگوریتم تشخیص لبه‌ی `Canny` لبه‌های تصویر استخراج می‌شوند.\n",
    "      - **معکوس کردن تصویر باینری**: با استفاده از `cv2.threshold` تصویر باینری معکوس می‌شود تا طرح نهایی ایجاد شود.\n",
    "\n",
    "3. **باز کردن وب‌کم**:\n",
    "    - با استفاده از `cv2.VideoCapture(0)` وب‌کم باز می‌شود و آماده دریافت فریم‌ها می‌شود.\n",
    "\n",
    "4. **حلقه اصلی**:\n",
    "    - در این حلقه:\n",
    "      - هر فریم از وب‌کم خوانده می‌شود.\n",
    "      - تابع `sketch` روی فریم اعمال می‌شود تا طرح ایجاد شود.\n",
    "      - طرح ایجاد شده در یک پنجره به نام `Live Sketch` نمایش داده می‌شود.\n",
    "      - با فشار دادن کلید `q` حلقه متوقف می‌شود.\n",
    "\n",
    "5. **آزادسازی منابع**:\n",
    "    - در پایان، وب‌کم آزاد می‌شود و تمام پنجره‌های باز شده بسته می‌شوند.\n",
    "\n",
    "این کد به شما امکان می‌دهد تا به صورت زنده طرحی از تصویر وب‌کم خود را مشاهده کنید.\n"
   ]
  }
 ],
 "metadata": {
  "kernelspec": {
   "display_name": "base",
   "language": "python",
   "name": "python3"
  },
  "language_info": {
   "codemirror_mode": {
    "name": "ipython",
    "version": 3
   },
   "file_extension": ".py",
   "mimetype": "text/x-python",
   "name": "python",
   "nbconvert_exporter": "python",
   "pygments_lexer": "ipython3",
   "version": "3.12.7"
  }
 },
 "nbformat": 4,
 "nbformat_minor": 5
}
