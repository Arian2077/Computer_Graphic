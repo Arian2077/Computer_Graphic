{
 "cells": [
  {
   "cell_type": "markdown",
   "metadata": {},
   "source": [
    "## Face Recognition – Unlock Your Computer With Your Face!"
   ]
  },
  {
   "cell_type": "markdown",
   "metadata": {},
   "source": [
    "\n",
    "### مرحله ۱ - ایجاد داده‌های آموزشی"
   ]
  },
  {
   "cell_type": "code",
   "execution_count": null,
   "metadata": {
    "collapsed": false
   },
   "outputs": [],
   "source": [
    "import cv2\n",
    "import numpy as np\n",
    "\n",
    "# Load HAAR face classifier\n",
    "face_classifier = cv2.CascadeClassifier('Haarcascades/haarcascade_frontalface_default.xml')\n",
    "\n",
    "# Load functions\n",
    "def face_extractor(img):\n",
    "    # Function detects faces and returns the cropped face\n",
    "    # If no face detected, it returns the input image\n",
    "    \n",
    "    gray = cv2.cvtColor(img,cv2.COLOR_BGR2GRAY)\n",
    "    faces = face_classifier.detectMultiScale(gray, 1.3, 5)\n",
    "    \n",
    "    if faces is ():\n",
    "        return None\n",
    "    \n",
    "    # Crop all faces found\n",
    "    for (x,y,w,h) in faces:\n",
    "        cropped_face = img[y:y+h, x:x+w]\n",
    "\n",
    "    return cropped_face\n",
    "\n",
    "# Initialize Webcam\n",
    "cap = cv2.VideoCapture(0)\n",
    "count = 0\n",
    "\n",
    "# Collect 100 samples of your face from webcam input\n",
    "while True:\n",
    "\n",
    "    ret, frame = cap.read()\n",
    "    if face_extractor(frame) is not None:\n",
    "        count += 1\n",
    "        face = cv2.resize(face_extractor(frame), (200, 200))\n",
    "        face = cv2.cvtColor(face, cv2.COLOR_BGR2GRAY)\n",
    "\n",
    "        # Save file in specified directory with unique name\n",
    "        file_name_path = './faces/user/' + str(count) + '.jpg'\n",
    "        cv2.imwrite(file_name_path, face)\n",
    "\n",
    "        # Put count on images and display live count\n",
    "        cv2.putText(face, str(count), (50, 50), cv2.FONT_HERSHEY_COMPLEX, 1, (0,255,0), 2)\n",
    "        cv2.imshow('Face Cropper', face)\n",
    "        \n",
    "    else:\n",
    "        print(\"Face not found\")\n",
    "        pass\n",
    "\n",
    "    if cv2.waitKey(1) == 13 or count == 100: #13 is the Enter Key\n",
    "        break\n",
    "        \n",
    "cap.release()\n",
    "cv2.destroyAllWindows()      \n",
    "print(\"Collecting Samples Complete\")"
   ]
  },
  {
   "cell_type": "markdown",
   "metadata": {},
   "source": [
    "این کد برای جمع‌آوری داده‌های تصویری از چهره شما با استفاده از وب‌کم و ذخیره آن‌ها برای آموزش مدل تشخیص چهره استفاده می‌شود. توضیح بخش‌های مختلف کد به شرح زیر است:\n",
    "\n",
    "- ابتدا کتابخانه‌های مورد نیاز (`cv2` و `numpy`) وارد می‌شوند.\n",
    "- یک طبقه‌بند (classifier) تشخیص چهره با استفاده از فایل Haar Cascade بارگذاری می‌شود.\n",
    "- تابع `face_extractor` تعریف شده تا چهره را در تصویر پیدا کند و قسمت چهره را برش دهد. اگر چهره‌ای پیدا نشود، مقدار `None` برمی‌گرداند.\n",
    "- وب‌کم فعال می‌شود و یک شمارنده برای تعداد تصاویر جمع‌آوری‌شده تعریف می‌شود.\n",
    "- در یک حلقه بی‌نهایت، هر بار یک فریم از وب‌کم خوانده می‌شود. اگر چهره‌ای در تصویر پیدا شود:\n",
    "    - شمارنده یکی افزایش می‌یابد.\n",
    "    - چهره برش داده شده به اندازه ۲۰۰x۲۰۰ تغییر اندازه داده و به تصویر خاکستری تبدیل می‌شود.\n",
    "    - تصویر چهره در مسیر مشخص‌شده ذخیره می‌شود.\n",
    "    - شماره نمونه روی تصویر نمایش داده می‌شود و تصویر نمایش داده می‌شود.\n",
    "- اگر چهره‌ای پیدا نشود، پیام \"Face not found\" چاپ می‌شود.\n",
    "- حلقه زمانی متوقف می‌شود که کلید Enter فشرده شود یا ۱۰۰ تصویر جمع‌آوری شود.\n",
    "- در پایان، وب‌کم و پنجره‌های باز شده بسته می‌شوند و پیام اتمام جمع‌آوری نمونه‌ها نمایش داده می‌شود.\n"
   ]
  },
  {
   "cell_type": "markdown",
   "metadata": {},
   "source": [
    "### مرحله ۲ - آموزش مدل"
   ]
  },
  {
   "cell_type": "code",
   "execution_count": 2,
   "metadata": {
    "collapsed": false
   },
   "outputs": [
    {
     "name": "stdout",
     "output_type": "stream",
     "text": [
      "Model trained sucessefully\n"
     ]
    }
   ],
   "source": [
    "import cv2\n",
    "import numpy as np\n",
    "from os import listdir\n",
    "from os.path import isfile, join\n",
    "\n",
    "# Get the training data we previously made\n",
    "data_path = './faces/user/'\n",
    "onlyfiles = [f for f in listdir(data_path) if isfile(join(data_path, f))]\n",
    "\n",
    "# Create arrays for training data and labels\n",
    "Training_Data, Labels = [], []\n",
    "\n",
    "# Open training images in our datapath\n",
    "# Create a numpy array for training data\n",
    "for i, files in enumerate(onlyfiles):\n",
    "    image_path = data_path + onlyfiles[i]\n",
    "    images = cv2.imread(image_path, cv2.IMREAD_GRAYSCALE)\n",
    "    Training_Data.append(np.asarray(images, dtype=np.uint8))\n",
    "    Labels.append(i)\n",
    "\n",
    "# Create a numpy array for both training data and labels\n",
    "Labels = np.asarray(Labels, dtype=np.int32)\n",
    "\n",
    "# Initialize facial recognizer\n",
    "model = cv2.createLBPHFaceRecognizer()\n",
    "# NOTE: For OpenCV 3.0 use cv2.face.createLBPHFaceRecognizer()\n",
    "\n",
    "# Let's train our model \n",
    "model.train(np.asarray(Training_Data), np.asarray(Labels))\n",
    "print(\"Model trained sucessefully\")\n"
   ]
  },
  {
   "cell_type": "markdown",
   "metadata": {},
   "source": [
    "این کد وظیفه آموزش مدل تشخیص چهره را با استفاده از تصاویر جمع‌آوری‌شده بر عهده دارد. شرح گام‌های انجام‌شده در کد به صورت زیر است:\n",
    "\n",
    "- ابتدا کتابخانه‌های مورد نیاز (`cv2`، `numpy` و توابع مربوط به مدیریت فایل‌ها) وارد می‌شوند.\n",
    "- مسیر پوشه‌ای که تصاویر چهره در آن ذخیره شده‌اند تعیین می‌شود و نام تمام فایل‌های موجود در آن پوشه خوانده می‌شود.\n",
    "- دو لیست برای داده‌های آموزشی (`Training_Data`) و برچسب‌ها (`Labels`) ایجاد می‌شود.\n",
    "- با استفاده از یک حلقه، هر تصویر به صورت سیاه‌وسفید خوانده شده و به لیست داده‌های آموزشی افزوده می‌شود. همچنین برای هر تصویر یک برچسب عددی در لیست برچسب‌ها ذخیره می‌شود.\n",
    "- لیست برچسب‌ها به آرایه‌ی numpy تبدیل می‌شود تا برای آموزش مدل قابل استفاده باشد.\n",
    "- یک مدل تشخیص چهره با استفاده از الگوریتم LBPH ساخته می‌شود.\n",
    "- مدل با داده‌های آموزشی و برچسب‌ها آموزش داده می‌شود.\n",
    "- در پایان، پیام موفقیت‌آمیز بودن آموزش مدل نمایش داده می‌شود.\n",
    "\n",
    "این مرحله باعث می‌شود مدل بتواند ویژگی‌های چهره شما را یاد بگیرد و در مراحل بعدی برای شناسایی چهره مورد استفاده قرار گیرد."
   ]
  },
  {
   "cell_type": "markdown",
   "metadata": {},
   "source": [
    "### مرحله ۳ - اجرای تشخیص چهره"
   ]
  },
  {
   "cell_type": "code",
   "execution_count": 7,
   "metadata": {
    "collapsed": false
   },
   "outputs": [],
   "source": [
    "import cv2\n",
    "import numpy as np\n",
    "\n",
    "\n",
    "face_classifier = cv2.CascadeClassifier('Haarcascades/haarcascade_frontalface_default.xml')\n",
    "\n",
    "def face_detector(img, size=0.5):\n",
    "    \n",
    "    # Convert image to grayscale\n",
    "    gray = cv2.cvtColor(img,cv2.COLOR_BGR2GRAY)\n",
    "    faces = face_classifier.detectMultiScale(gray, 1.3, 5)\n",
    "    if faces is ():\n",
    "        return img, []\n",
    "    \n",
    "    for (x,y,w,h) in faces:\n",
    "        cv2.rectangle(img,(x,y),(x+w,y+h),(0,255,255),2)\n",
    "        roi = img[y:y+h, x:x+w]\n",
    "        roi = cv2.resize(roi, (200, 200))\n",
    "    return img, roi\n",
    "\n",
    "\n",
    "# Open Webcam\n",
    "cap = cv2.VideoCapture(0)\n",
    "\n",
    "while True:\n",
    "\n",
    "    ret, frame = cap.read()\n",
    "    \n",
    "    image, face = face_detector(frame)\n",
    "    \n",
    "    try:\n",
    "        face = cv2.cvtColor(face, cv2.COLOR_BGR2GRAY)\n",
    "\n",
    "        # Pass face to prediction model\n",
    "        # \"results\" comprises of a tuple containing the label and the confidence value\n",
    "        results = model.predict(face)\n",
    "        \n",
    "        if results[1] < 500:\n",
    "            confidence = int( 100 * (1 - (results[1])/400) )\n",
    "            display_string = str(confidence) + '% Confident it is User'\n",
    "            \n",
    "        cv2.putText(image, display_string, (100, 120), cv2.FONT_HERSHEY_COMPLEX, 1, (255,120,150), 2)\n",
    "        \n",
    "        if confidence > 75:\n",
    "            cv2.putText(image, \"Unlocked\", (250, 450), cv2.FONT_HERSHEY_COMPLEX, 1, (0,255,0), 2)\n",
    "            cv2.imshow('Face Recognition', image )\n",
    "        else:\n",
    "            cv2.putText(image, \"Locked\", (250, 450), cv2.FONT_HERSHEY_COMPLEX, 1, (0,0,255), 2)\n",
    "            cv2.imshow('Face Recognition', image )\n",
    "\n",
    "    except:\n",
    "        cv2.putText(image, \"No Face Found\", (220, 120) , cv2.FONT_HERSHEY_COMPLEX, 1, (0,0,255), 2)\n",
    "        cv2.putText(image, \"Locked\", (250, 450), cv2.FONT_HERSHEY_COMPLEX, 1, (0,0,255), 2)\n",
    "        cv2.imshow('Face Recognition', image )\n",
    "        pass\n",
    "        \n",
    "    if cv2.waitKey(1) == 13: #13 is the Enter Key\n",
    "        break\n",
    "        \n",
    "cap.release()\n",
    "cv2.destroyAllWindows()     "
   ]
  },
  {
   "cell_type": "markdown",
   "metadata": {},
   "source": [
    "این کد مرحله نهایی سیستم تشخیص چهره و باز کردن قفل (Unlock) را اجرا می‌کند. شرح بخش‌های مختلف کد به صورت زیر است:\n",
    "\n",
    "- کتابخانه‌های مورد نیاز (`cv2` و `numpy`) وارد می‌شوند.\n",
    "- طبقه‌بند تشخیص چهره با استفاده از فایل Haar Cascade بارگذاری می‌شود.\n",
    "- تابع `face_detector` برای شناسایی چهره در تصویر ورودی تعریف شده است. این تابع چهره را پیدا کرده، آن را برش می‌دهد و مستطیلی دور آن رسم می‌کند. اگر چهره‌ای شناسایی نشود، تصویر اصلی و یک لیست خالی بازمی‌گرداند.\n",
    "- وب‌کم فعال می‌شود و در یک حلقه بی‌نهایت، هر بار یک فریم از وب‌کم دریافت می‌شود.\n",
    "- با استفاده از تابع `face_detector`، چهره در تصویر شناسایی و استخراج می‌شود.\n",
    "- اگر چهره‌ای شناسایی شود، تصویر چهره به حالت خاکستری تبدیل شده و به مدل آموزش‌دیده داده می‌شود تا پیش‌بینی کند که آیا چهره متعلق به کاربر است یا خیر.\n",
    "- مقدار اطمینان (confidence) محاسبه و روی تصویر نمایش داده می‌شود.\n",
    "- اگر اطمینان بیشتر از ۷۵٪ باشد، پیام \"Unlocked\" (قفل باز شد) نمایش داده می‌شود؛ در غیر این صورت، پیام \"Locked\" (قفل بسته است) نمایش داده می‌شود.\n",
    "- اگر چهره‌ای شناسایی نشود، پیام‌های \"No Face Found\" و \"Locked\" نمایش داده می‌شوند.\n",
    "- حلقه با فشردن کلید Enter متوقف می‌شود و در پایان، وب‌کم و تمام پنجره‌های باز شده بسته می‌شوند.\n",
    "\n",
    "این کد با استفاده از مدل آموزش‌دیده، چهره کاربر را به صورت زنده شناسایی می‌کند و در صورت تطابق، قفل سیستم را باز می‌نماید. این فرآیند نمونه‌ای کاربردی از سیستم‌های احراز هویت مبتنی بر تشخیص چهره است."
   ]
  }
 ],
 "metadata": {
  "kernelspec": {
   "display_name": "Python 2",
   "language": "python",
   "name": "python2"
  },
  "language_info": {
   "codemirror_mode": {
    "name": "ipython",
    "version": 2
   },
   "file_extension": ".py",
   "mimetype": "text/x-python",
   "name": "python",
   "nbconvert_exporter": "python",
   "pygments_lexer": "ipython2",
   "version": "2.7.11"
  }
 },
 "nbformat": 4,
 "nbformat_minor": 0
}
