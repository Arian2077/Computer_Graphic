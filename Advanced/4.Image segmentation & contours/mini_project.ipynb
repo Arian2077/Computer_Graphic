{
 "cells": [
  {
   "cell_type": "markdown",
   "id": "85034988",
   "metadata": {},
   "source": [
    "# Mini Project --- Shape Matching(Identify Contours by shape)"
   ]
  },
  {
   "cell_type": "code",
   "execution_count": 8,
   "id": "c6836d6e",
   "metadata": {},
   "outputs": [],
   "source": [
    "import numpy as np\n",
    "import cv2\n",
    "\n",
    "image = cv2.imread(\"new_shapes.png\")\n",
    "gray = cv2.cvtColor(image, cv2.COLOR_BGR2GRAY)\n",
    "ret, thresh = cv2.threshold(gray, 127, 255, 1)\n",
    "\n",
    "contours, hierarchy = cv2.findContours(thresh.copy(), cv2.RETR_EXTERNAL, cv2.CHAIN_APPROX_NONE)\n",
    "\n",
    "for cnt in contours:\n",
    "    epsilon = 0.01 * cv2.arcLength(cnt, True)\n",
    "    approx = cv2.approxPolyDP(cnt, epsilon, True)\n",
    "    M = cv2.moments(cnt)\n",
    "    if M[\"m00\"] == 0:\n",
    "        continue\n",
    "    cx = int(M[\"m10\"] / M[\"m00\"])\n",
    "    cy = int(M[\"m01\"] / M[\"m00\"])\n",
    "\n",
    "    if len(approx) == 3:\n",
    "        shape_name = \"Triangle\"\n",
    "        color = (0, 255, 0)\n",
    "    elif len(approx) == 4:\n",
    "        x, y, w, h = cv2.boundingRect(cnt)\n",
    "        if abs(w - h) <= 3:\n",
    "            shape_name = \"Square\"\n",
    "            color = (0, 125, 255)\n",
    "        else:\n",
    "            shape_name = \"Rectangle\"\n",
    "            color = (0, 0, 255)\n",
    "    elif len(approx) == 10:\n",
    "        shape_name = \"Star\"\n",
    "        color = (255, 255, 0)\n",
    "    elif len(approx) >= 15:\n",
    "        shape_name = \"Circle\"\n",
    "        color = (0, 255, 255)\n",
    "    else:\n",
    "        shape_name = \"Unknown\"\n",
    "        color = (128, 128, 128)\n",
    "\n",
    "    cv2.drawContours(image, [cnt], 0, color, -1)\n",
    "    cv2.putText(image, shape_name, (cx, cy), cv2.FONT_HERSHEY_SIMPLEX, 0.5, (0, 0, 0), 2)\n",
    "\n",
    "cv2.imshow(\"Identifying Shapes\", image)\n",
    "cv2.waitKey(0)\n",
    "cv2.destroyAllWindows()\n"
   ]
  },
  {
   "cell_type": "markdown",
   "id": "ee40d0e7",
   "metadata": {},
   "source": [
    "این کد یک تصویر را می‌خواند، اشکال موجود در آن را شناسایی می‌کند و هر شکل را با نوع آن (مثلث، مربع، مستطیل، ستاره، دایره یا ناشناخته) با استفاده از OpenCV برچسب‌گذاری می‌کند. در اینجا توضیح گام به گام آمده است:\n",
    "\n",
    "1. **بارگذاری و پیش‌پردازش تصویر**  \n",
    "    - تصویر `new_shapes.png` را می‌خواند.\n",
    "    - آن را به تصویر خاکستری تبدیل می‌کند.\n",
    "    - با اعمال آستانه‌گذاری باینری، اشکال را از پس‌زمینه جدا می‌کند.\n",
    "\n",
    "2. **شناسایی کانتور (مرز اشکال)**  \n",
    "    - کانتورهای تمام اشکال موجود در تصویر آستانه‌گذاری‌شده را پیدا می‌کند.\n",
    "\n",
    "3. **تقریب و شناسایی شکل**  \n",
    "    - برای هر کانتور:\n",
    "      - کانتور را به یک چندضلعی با رأس‌های کمتر تقریب می‌زند.\n",
    "      - مرکز جرم (مرکز شکل) را با استفاده از ممان‌های تصویر محاسبه می‌کند.\n",
    "      - نوع شکل را بر اساس تعداد رأس‌ها تعیین می‌کند:\n",
    "         - ۳: مثلث\n",
    "         - ۴: مربع یا مستطیل (عرض و ارتفاع را بررسی می‌کند)\n",
    "         - ۱۰: ستاره\n",
    "         - ۱۵ یا بیشتر: دایره\n",
    "         - در غیر این صورت: ناشناخته\n",
    "\n",
    "4. **رنگ‌آمیزی و برچسب‌گذاری**  \n",
    "    - شکل شناسایی‌شده را با رنگ خاصی پر می‌کند.\n",
    "    - نام شکل را در مرکز آن می‌نویسد.\n",
    "\n",
    "5. **نمایش**  \n",
    "    - تصویر نهایی با اشکال برچسب‌گذاری‌شده را در یک پنجره نمایش می‌دهد.\n",
    "\n",
    "اگر توضیح جزئی‌تری از هر بخش خواستید، اطلاع دهید.\n"
   ]
  }
 ],
 "metadata": {
  "kernelspec": {
   "display_name": "base",
   "language": "python",
   "name": "python3"
  },
  "language_info": {
   "codemirror_mode": {
    "name": "ipython",
    "version": 3
   },
   "file_extension": ".py",
   "mimetype": "text/x-python",
   "name": "python",
   "nbconvert_exporter": "python",
   "pygments_lexer": "ipython3",
   "version": "3.12.7"
  }
 },
 "nbformat": 4,
 "nbformat_minor": 5
}
