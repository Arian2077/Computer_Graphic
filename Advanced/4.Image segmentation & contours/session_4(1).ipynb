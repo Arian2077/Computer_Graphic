{
 "cells": [
  {
   "cell_type": "markdown",
   "id": "ae1787db",
   "metadata": {},
   "source": [
    "# Image segmentation & contours"
   ]
  },
  {
   "cell_type": "markdown",
   "id": "4dfec2e7",
   "metadata": {},
   "source": [
    "## Segmentation (تقسیم بندی)\n",
    "\n",
    "تقسیم‌بندی (Segmentation) در تصاویر به فرآیندی گفته می‌شود که در آن تصویر به بخش‌های مختلف یا نواحی معنادار تقسیم می‌شود. هدف اصلی تقسیم‌بندی، ساده‌سازی یا تغییر نمایش تصویر به گونه‌ای است که تحلیل آن آسان‌تر شود. این بخش‌ها معمولاً بر اساس ویژگی‌هایی مانند رنگ، شدت روشنایی یا بافت شناسایی می‌شوند.\n",
    "\n",
    "در OpenCV، تقسیم‌بندی تصاویر کاربردهای متنوعی دارد، از جمله:\n",
    "- **شناسایی اشیاء**: برای تشخیص و جداسازی اشیاء خاص در تصویر.\n",
    "- **ردیابی اشیاء**: برای دنبال کردن حرکت اشیاء در ویدیوها.\n",
    "- **تحلیل تصاویر پزشکی**: برای شناسایی نواحی خاص مانند تومورها در تصاویر پزشکی.\n",
    "- **بینایی ماشین**: برای کاربردهایی مانند تشخیص چهره، پلاک خودرو و غیره.\n",
    "\n",
    "ابزارها و الگوریتم‌های مختلفی در OpenCV برای تقسیم‌بندی تصاویر وجود دارد، مانند استفاده از آستانه‌گذاری (Thresholding)، خوشه‌بندی (Clustering) و الگوریتم‌های پیشرفته‌تر مانند Watershed و GrabCut. این ابزارها به کاربران کمک می‌کنند تا تصاویر را به صورت دقیق‌تر تحلیل و پردازش کنند."
   ]
  },
  {
   "cell_type": "markdown",
   "id": "e9a6e5a5",
   "metadata": {},
   "source": [
    "## Contours\n",
    "\n",
    "کانتور (Contour) به خطوط یا منحنی‌هایی گفته می‌شود که مرزهای اشیاء در تصویر را مشخص می‌کنند. کانتورها یکی از ابزارهای کلیدی در پردازش تصویر هستند و برای شناسایی، تحلیل و استخراج ویژگی‌های اشیاء در تصویر به کار می‌روند.\n",
    "\n",
    "### کاربردهای اصلی کانتورها:\n",
    "- **تشخیص اشیاء**: برای شناسایی و جداسازی اشیاء در تصویر.\n",
    "- **تحلیل شکل**: برای بررسی ویژگی‌های هندسی اشیاء مانند مساحت، محیط و تقارن.\n",
    "\n",
    "در OpenCV، برای استخراج کانتورها معمولاً از تابع `cv2.findContours` استفاده می‌شود. این تابع یک تصویر دودویی (Binary) را به عنوان ورودی دریافت کرده و کانتورها را به همراه سلسله‌مراتب آن‌ها بازمی‌گرداند. استفاده از کانتورها در کاربردهایی مانند تشخیص لبه‌ها، ردیابی اشیاء و تحلیل تصاویر پزشکی بسیار رایج است.\n",
    "\n",
    "## پیاده سازی مثالی در رابطه با کانتورها"
   ]
  },
  {
   "cell_type": "code",
   "execution_count": 4,
   "id": "1a49d641",
   "metadata": {},
   "outputs": [
    {
     "name": "stdout",
     "output_type": "stream",
     "text": [
      "(array([[[689, 187]],\n",
      "\n",
      "       [[687, 189]],\n",
      "\n",
      "       [[687, 371]],\n",
      "\n",
      "       [[688, 372]],\n",
      "\n",
      "       [[877, 372]],\n",
      "\n",
      "       [[877, 188]],\n",
      "\n",
      "       [[876, 187]]], dtype=int32), array([[[ 22, 102]],\n",
      "\n",
      "       [[ 20, 104]],\n",
      "\n",
      "       [[ 20, 355]],\n",
      "\n",
      "       [[ 21, 356]],\n",
      "\n",
      "       [[256, 356]],\n",
      "\n",
      "       [[256, 103]],\n",
      "\n",
      "       [[255, 102]]], dtype=int32), array([[[342,  56]],\n",
      "\n",
      "       [[340,  58]],\n",
      "\n",
      "       [[340, 451]],\n",
      "\n",
      "       [[341, 452]],\n",
      "\n",
      "       [[638, 452]],\n",
      "\n",
      "       [[638,  57]],\n",
      "\n",
      "       [[637,  56]]], dtype=int32))\n",
      "Number of contours found = 3\n"
     ]
    }
   ],
   "source": [
    "import cv2\n",
    "import numpy as np\n",
    "\n",
    "# Load the image of three square\n",
    "image = cv2.imread(\"square.png\")\n",
    "cv2.imshow(\"input image\",image)\n",
    "cv2.waitKey(0)\n",
    "\n",
    "# Grayscale\n",
    "gray = cv2.cvtColor(image,cv2.COLOR_BGR2GRAY)\n",
    "\n",
    "# Find canny edges\n",
    "edged = cv2.Canny(gray,30,200)\n",
    "cv2.imshow(\"Canny edges\",edged)\n",
    "cv2.waitKey(0)\n",
    "\n",
    "# Finding Contours\n",
    "contours, hierarchy = cv2.findContours(edged.copy(), cv2.RETR_EXTERNAL, cv2.CHAIN_APPROX_SIMPLE)\n",
    "cv2.imshow(\"Canny edges after contouring\",edged)\n",
    "cv2.waitKey(0)\n",
    "print(contours)\n",
    "print(\"Number of contours found = \" + str(len(contours)))\n",
    "\n",
    "# Draw all contours\n",
    "cv2.drawContours(image, contours, -1, (0, 255, 0), 3)\n",
    "cv2.imshow(\"Contours\", image)\n",
    "cv2.waitKey(0)\n",
    "cv2.destroyAllWindows()"
   ]
  },
  {
   "cell_type": "markdown",
   "id": "99cf64cc",
   "metadata": {
    "vscode": {
     "languageId": "ini"
    }
   },
   "source": [
    "در کد بالا، مراحل زیر انجام شده است:\n",
    "\n",
    "1. **بارگذاری تصویر**:\n",
    "    تصویر با استفاده از تابع `cv2.imread` بارگذاری شده و در متغیر `image` ذخیره شده است. سپس با استفاده از `cv2.imshow` نمایش داده شده و با `cv2.waitKey(0)` منتظر فشردن کلیدی برای ادامه مانده است.\n",
    "\n",
    "2. **تبدیل به تصویر خاکستری**:\n",
    "    تصویر رنگی به تصویر خاکستری تبدیل شده است. این کار با استفاده از تابع `cv2.cvtColor` و پارامتر `cv2.COLOR_BGR2GRAY` انجام شده و نتیجه در متغیر `gray` ذخیره شده است. این متغیر حاوی آرایه‌ای از مقادیر شدت روشنایی پیکسل‌ها است.\n",
    "\n",
    "3. **استخراج لبه‌ها با الگوریتم Canny**:\n",
    "    با استفاده از تابع `cv2.Canny`، لبه‌های تصویر خاکستری استخراج شده و در متغیر `edged` ذخیره شده است. این لبه‌ها با استفاده از مقادیر آستانه 30 و 200 مشخص شده‌اند. سپس تصویر لبه‌ها نمایش داده شده است. متغیر `edged` یک آرایه دودویی است که لبه‌ها را نشان می‌دهد.\n",
    "\n",
    "4. **یافتن کانتورها**:\n",
    "    با استفاده از تابع `cv2.findContours`، کانتورها (مرزهای اشیاء) در تصویر لبه‌یابی شده پیدا شده‌اند. این تابع کانتورها را به همراه سلسله‌مراتب آن‌ها بازمی‌گرداند. کانتورها در متغیر `contours` و سلسله‌مراتب در متغیر `hierarchy` ذخیره شده‌اند. متغیر `contours` شامل یک لیست از آرایه‌های نقاط مختصات کانتورها است و طول آن برابر با تعداد کانتورها (3 کانتور) است.\n",
    "\n",
    "5. **رسم کانتورها روی تصویر اصلی**:\n",
    "    با استفاده از تابع `cv2.drawContours`، تمامی کانتورها روی تصویر اصلی رسم شده‌اند. رنگ کانتورها سبز `(0, 255, 0)` و ضخامت خطوط 3 پیکسل است. تصویر نهایی که کانتورها روی آن رسم شده‌اند، نمایش داده شده است.\n",
    "\n",
    "6. **بستن تمامی پنجره‌ها**:\n",
    "    در پایان، با استفاده از `cv2.destroyAllWindows` تمامی پنجره‌های باز بسته شده‌اند.\n",
    "\n",
    "این کد به طور کلی برای شناسایی و نمایش کانتورها (مرزهای اشیاء) در یک تصویر استفاده می‌شود. متغیرهای `contours`، `edged`، `gray`، `hierarchy` و `image` در این فرآیند نقش کلیدی دارند و اطلاعات مربوط به کانتورها و تصویر پردازش‌شده را ذخیره می‌کنند."
   ]
  },
  {
   "cell_type": "markdown",
   "id": "73eea7cf",
   "metadata": {},
   "source": [
    "## سلسله مراتب در کانتوره (Hierarchy)\n",
    "\n",
    "در پردازش تصویر، کانتورها می‌توانند به صورت سلسله‌مراتبی سازمان‌دهی شوند. این سلسله‌مراتب به ما کمک می‌کند تا روابط بین کانتورها را درک کنیم. به عنوان مثال، ممکن است یک کانتور درون کانتور دیگری قرار داشته باشد (مانند یک دایره کوچک درون یک دایره بزرگ‌تر). OpenCV این سلسله‌مراتب را با استفاده از آرایه‌ای به نام `hierarchy` مدیریت می‌کند.\n",
    "\n",
    "#### ساختار `hierarchy`\n",
    "آرایه `hierarchy` یک آرایه چندبعدی است که اطلاعات مربوط به هر کانتور را ذخیره می‌کند. هر کانتور دارای چهار مقدار است:\n",
    "1. **Next**: اندیس کانتور بعدی در همان سطح. اگر کانتور بعدی وجود نداشته باشد، مقدار آن `-1` است.\n",
    "2. **Previous**: اندیس کانتور قبلی در همان سطح. اگر کانتور قبلی وجود نداشته باشد، مقدار آن `-1` است.\n",
    "3. **First Child**: اندیس اولین کانتور فرزند. اگر کانتور فرزندی وجود نداشته باشد، مقدار آن `-1` است.\n",
    "4. **Parent**: اندیس کانتور والد. اگر کانتور والدی وجود نداشته باشد، مقدار آن `-1` است.\n",
    "\n",
    "#### انواع سلسله‌مراتب\n",
    "در OpenCV، می‌توان نوع سلسله‌مراتب را با استفاده از پارامتر `mode` در تابع `cv2.findContours` مشخص کرد. برخی از حالت‌های رایج عبارتند از:\n",
    "- **cv2.RETR_EXTERNAL**: فقط کانتورهای خارجی (بیرونی) را استخراج می‌کند.\n",
    "- **cv2.RETR_LIST**: تمام کانتورها را بدون در نظر گرفتن سلسله‌مراتب استخراج می‌کند.\n",
    "- **cv2.RETR_CCOMP**: کانتورها را به صورت دو سطحی (سطح خارجی و داخلی) سازمان‌دهی می‌کند.\n",
    "- **cv2.RETR_TREE**: تمام کانتورها را به همراه سلسله‌مراتب کامل استخراج می‌کند.\n",
    "\n",
    "#### مثال\n",
    "فرض کنید یک تصویر شامل چندین دایره تو در تو داریم. با استفاده از `cv2.RETR_TREE`، می‌توانیم اطلاعات مربوط به سلسله‌مراتب کانتورها را استخراج کنیم. این اطلاعات به ما کمک می‌کند تا بفهمیم کدام کانتور درون کانتور دیگر قرار دارد یا کدام کانتورها در یک سطح هستند.\n",
    "\n",
    "به طور کلی، سلسله‌مراتب در کانتورها ابزاری قدرتمند برای تحلیل و پردازش تصاویر پیچیده است.\n",
    "در کد قبلی که پیاده سازی شد سه مربع را در تصویر دیدیم ، حال بیایید تصور کنید که مربع سفیدی وسط یکی از مربع ها وجود دارد ، در این صورت مربع سفید شناسایی نمی شود ، بیایید مدل های دیگر را که نام بردیم در همان کد با تصویر جدید پیاده سازی کنیم"
   ]
  },
  {
   "cell_type": "code",
   "execution_count": null,
   "id": "ea6e6148",
   "metadata": {},
   "outputs": [],
   "source": [
    "import cv2\n",
    "import numpy as np\n",
    "\n",
    "# Load the image of three square\n",
    "image = cv2.imread(\"square_donat.png\")\n",
    "cv2.imshow(\"input image\",image)\n",
    "cv2.waitKey(0)\n",
    "\n",
    "# Grayscale\n",
    "gray = cv2.cvtColor(image,cv2.COLOR_BGR2GRAY)\n",
    "\n",
    "# Find canny edges\n",
    "edged = cv2.Canny(gray,30,200)\n",
    "cv2.imshow(\"Canny edges\",edged)\n",
    "cv2.waitKey(0)\n",
    "\n",
    "# Finding Contours --> | Changin RETR_EXTERNAL to RETR_LIST |\n",
    "contours, hierarchy = cv2.findContours(edged.copy(), cv2.RETR_LIST, cv2.CHAIN_APPROX_SIMPLE)\n",
    "cv2.imshow(\"Canny edges after contouring\",edged)\n",
    "cv2.waitKey(0)\n",
    "\n",
    "# Draw all contours\n",
    "cv2.drawContours(image, contours, -1, (0, 255, 0), 3)\n",
    "cv2.imshow(\"Contours\", image)\n",
    "cv2.waitKey(0)\n",
    "cv2.destroyAllWindows()"
   ]
  },
  {
   "cell_type": "markdown",
   "id": "3dbb49e4",
   "metadata": {},
   "source": [
    "## Sorting Contours (مرتب سازی کانتور ها)\n",
    "\n",
    "در پردازش تصویر، مرتب‌سازی کانتورها یکی از ابزارهای مهم برای تحلیل و پردازش دقیق‌تر تصاویر است. با مرتب‌سازی کانتورها می‌توان اطلاعات بیشتری درباره ترتیب، اندازه و موقعیت اشیاء موجود در تصویر به دست آورد. در OpenCV، می‌توان کانتورها را بر اساس معیارهای مختلفی مانند مساحت یا موقعیت مکانی مرتب کرد.\n",
    "\n",
    "### Sorting by Area (مرتب‌سازی بر اساس مساحت )\n",
    "\n",
    "یکی از روش‌های رایج برای مرتب‌سازی کانتورها، مرتب‌سازی بر اساس مساحت آن‌ها است. این روش به ما کمک می‌کند تا کانتورهای بزرگ‌تر یا کوچک‌تر را شناسایی کنیم. برای این کار، از تابع `cv2.contourArea` استفاده می‌شود که مساحت هر کانتور را محاسبه می‌کند.\n",
    "\n",
    "#### مراحل:\n",
    "1. محاسبه مساحت هر کانتور با استفاده از `cv2.contourArea`.\n",
    "2. مرتب‌سازی کانتورها بر اساس مساحت به صورت صعودی یا نزولی.\n",
    "\n",
    "#### کاربردها:\n",
    "- شناسایی بزرگ‌ترین یا کوچک‌ترین اشیاء در تصویر.\n",
    "- حذف نویزهای کوچک با مساحت کم.\n",
    "- تحلیل اشیاء بر اساس اندازه.\n",
    "\n",
    "### Sorting by Spatial Position (مرتب‌سازی بر اساس موقعیت مکانی )\n",
    "\n",
    "در برخی موارد، نیاز است که کانتورها بر اساس موقعیت مکانی آن‌ها در تصویر مرتب شوند. این کار معمولاً بر اساس مختصات نقاط کانتور انجام می‌شود. برای این منظور، از مقدار `boundingRect` استفاده می‌شود که یک مستطیل محدودکننده برای هر کانتور ایجاد می‌کند.\n",
    "\n",
    "#### مراحل:\n",
    "1. محاسبه مستطیل محدودکننده هر کانتور با استفاده از `cv2.boundingRect`.\n",
    "2. مرتب‌سازی کانتورها بر اساس مختصات `x` یا `y` مستطیل محدودکننده.\n",
    "\n",
    "#### کاربردها:\n",
    "- مرتب‌سازی اشیاء از چپ به راست یا از بالا به پایین.\n",
    "- تحلیل ترتیب اشیاء در تصویر.\n",
    "- شناسایی الگوهای خاص در تصاویر.\n",
    "\n",
    "### به طور کلی:\n",
    "\n",
    "مرتب‌سازی کانتورها ابزار قدرتمندی برای تحلیل دقیق‌تر تصاویر است. با استفاده از این روش‌ها می‌توان اطلاعات بیشتری درباره اشیاء موجود در تصویر به دست آورد و پردازش‌های پیشرفته‌تری انجام داد. انتخاب روش مرتب‌سازی به نوع کاربرد و هدف تحلیل تصویر بستگی دارد.\n",
    "\n",
    "## نمونه کد مرتب سازی\n",
    "\n",
    "### پیدا کردن کانتور ها در عکس جدید:"
   ]
  },
  {
   "cell_type": "code",
   "execution_count": null,
   "id": "4eceb060",
   "metadata": {},
   "outputs": [
    {
     "name": "stdout",
     "output_type": "stream",
     "text": [
      "Number of contours found =  4\n"
     ]
    }
   ],
   "source": [
    "import cv2\n",
    "import numpy as np\n",
    "\n",
    "# Load the image of four shapes\n",
    "image = cv2.imread(\"shapes.png\")\n",
    "cv2.imshow(\"Original Image\",image)\n",
    "cv2.waitKey(0)\n",
    "\n",
    "# Create a blank image with some dimensions as our loaded image\n",
    "blank_image = np.zeros((image.shape[0],image.shape[1],3))\n",
    "\n",
    "# Create a copy of our original image\n",
    "original_image = image\n",
    "\n",
    "# Grayscale\n",
    "gray = cv2.cvtColor(image,cv2.COLOR_BGR2GRAY)\n",
    "\n",
    "# Find canny edges\n",
    "edged = cv2.Canny(gray,50,200)\n",
    "cv2.imshow(\"Canny edges\",edged)\n",
    "cv2.waitKey(0)\n",
    "\n",
    "# Finding Contours \n",
    "contours, hierarchy = cv2.findContours(edged.copy(), cv2.RETR_EXTERNAL, cv2.CHAIN_APPROX_SIMPLE)\n",
    "print(\"Number of contours found = \",len(contours))\n",
    "\n",
    "# Draw all contours\n",
    "cv2.drawContours(image, contours, -1, (0, 255, 0), 3)\n",
    "cv2.imshow(\"Contours\", image)\n",
    "cv2.waitKey(0)\n",
    "cv2.destroyAllWindows()"
   ]
  },
  {
   "cell_type": "markdown",
   "id": "2b0eaf14",
   "metadata": {},
   "source": [
    "### مرتب سازی با استفاده از مساحت:"
   ]
  },
  {
   "cell_type": "code",
   "execution_count": 12,
   "id": "e6980878",
   "metadata": {},
   "outputs": [
    {
     "name": "stdout",
     "output_type": "stream",
     "text": [
      "Contour Area before sorting\n",
      "[16677.0, 20899.0, 47330.0, 55773.0]\n",
      "Contour Area after sorting\n",
      "[55773.0, 47330.0, 20899.0, 16677.0]\n"
     ]
    }
   ],
   "source": [
    "import cv2\n",
    "import numpy as np\n",
    "\n",
    "# Function we'll use to display contour area\n",
    "def get_contour_areas(contours):\n",
    "    # returns the areas of all contours as list\n",
    "    all_areas = []\n",
    "    for cnt in contours:\n",
    "        area = cv2.contourArea(cnt)\n",
    "        all_areas.append(area)\n",
    "    return all_areas\n",
    "\n",
    "# Load the image of four shapes\n",
    "image = cv2.imread(\"shapes.png\")\n",
    "original_image = image\n",
    "\n",
    "# lets print the areas of the contours before sorting\n",
    "print(\"Contour Area before sorting\")\n",
    "print(get_contour_areas(contours))\n",
    "\n",
    "# Sort contours by area in descending order\n",
    "sorted_contours = sorted(contours, key=cv2.contourArea, reverse=True)\n",
    "\n",
    "# lets print the areas of the contours after sorting\n",
    "print(\"Contour Area after sorting\")\n",
    "print(get_contour_areas(sorted_contours))\n",
    "\n",
    "# Draw sorted contours on the blank image\n",
    "for c in sorted_contours:\n",
    "    cv2.drawContours(original_image,[c],-1,(255,0,0),3)\n",
    "    cv2.waitKey(0)\n",
    "    cv2.imshow('Contours by area',original_image)\n",
    "# Display the sorted contours\n",
    "\n",
    "cv2.waitKey(0)\n",
    "cv2.destroyAllWindows()\n"
   ]
  },
  {
   "cell_type": "markdown",
   "id": "96f2d432",
   "metadata": {},
   "source": [
    "در این کد، کانتورها بر اساس مساحت آن‌ها مرتب می‌شوند. ابتدا مساحت کانتورها قبل از مرتب‌سازی چاپ می‌شود. سپس کانتورها با استفاده از تابع `sorted` و بر اساس مساحت به صورت نزولی مرتب می‌شوند. در نهایت، مساحت کانتورها پس از مرتب‌سازی چاپ شده و کانتورهای مرتب‌شده روی تصویر اصلی رسم می‌شوند.\n",
    "\n"
   ]
  },
  {
   "cell_type": "code",
   "execution_count": null,
   "id": "5ae0d73f",
   "metadata": {},
   "outputs": [],
   "source": []
  }
 ],
 "metadata": {
  "kernelspec": {
   "display_name": "base",
   "language": "python",
   "name": "python3"
  },
  "language_info": {
   "codemirror_mode": {
    "name": "ipython",
    "version": 3
   },
   "file_extension": ".py",
   "mimetype": "text/x-python",
   "name": "python",
   "nbconvert_exporter": "python",
   "pygments_lexer": "ipython3",
   "version": "3.12.7"
  }
 },
 "nbformat": 4,
 "nbformat_minor": 5
}
