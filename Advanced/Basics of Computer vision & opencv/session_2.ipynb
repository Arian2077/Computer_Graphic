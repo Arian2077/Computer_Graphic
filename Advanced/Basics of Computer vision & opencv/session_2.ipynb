{
 "cells": [
  {
   "cell_type": "markdown",
   "id": "061b3d01",
   "metadata": {},
   "source": [
    "# What Are Images"
   ]
  },
  {
   "cell_type": "markdown",
   "id": "e151dd8c",
   "metadata": {},
   "source": [
    "تصاویر مجموعه‌ای از داده‌ها هستند که به صورت ماتریس‌هایی از پیکسل‌ها نمایش داده می‌شوند.\n",
    "هر پیکسل دارای مقداری است که نشان‌دهنده شدت نور یا رنگ در آن نقطه خاص است.\n",
    "تصاویر می‌توانند سیاه و سفید (مقادیر شدت خاکستری) یا رنگی (ترکیبی از سه کانال رنگی قرمز، سبز و آبی) باشند."
   ]
  },
  {
   "cell_type": "markdown",
   "id": "a644620f",
   "metadata": {},
   "source": [
    "## How are images formed?"
   ]
  },
  {
   "cell_type": "markdown",
   "id": "3817b169",
   "metadata": {},
   "source": [
    "تصاویر از طریق ثبت نور بازتابی یا منتشر شده از اشیاء توسط حسگرها یا دوربین‌ها تشکیل می‌شوند. این فرآیند شامل چند مرحله است:\n",
    "\n",
    "1. **جمع‌آوری نور**: نور از یک منبع (مانند خورشید یا یک لامپ) به اشیاء برخورد می‌کند و بازتاب یا انتشار می‌یابد. این نور توسط لنز دوربین یا حسگر جمع‌آوری می‌شود.\n",
    "2. **تمرکز نور**: لنز دوربین نور را بر روی حسگر متمرکز می‌کند تا تصویر واضحی ایجاد شود. این فرآیند به تنظیم فاصله کانونی لنز بستگی دارد.\n",
    "3. **تبدیل نور به سیگنال الکتریکی**: حسگر دوربین (مانند CCD یا CMOS) نور را به سیگنال‌های الکتریکی تبدیل می‌کند. هر پیکسل در حسگر شدت نور را در نقطه خاصی ثبت می‌کند.\n",
    "4. **دیجیتالی کردن سیگنال‌ها**: سیگنال‌های الکتریکی به مقادیر دیجیتال تبدیل می‌شوند که می‌توانند توسط کامپیوتر پردازش شوند. این مقادیر معمولاً به صورت ماتریسی از اعداد ذخیره می‌شوند.\n",
    "5. **پردازش تصویر**: داده‌های دیجیتال ممکن است برای بهبود کیفیت تصویر یا استخراج اطلاعات خاص پردازش شوند.\n",
    "در نهایت، تصویر به صورت ماتریسی از پیکسل‌ها نمایش داده می‌شود که هر پیکسل نشان‌دهنده شدت نور یا رنگ در آن نقطه خاص است."
   ]
  },
  {
   "cell_type": "markdown",
   "id": "2a0b78ae",
   "metadata": {},
   "source": [
    "## How do computers store images?"
   ]
  },
  {
   "cell_type": "markdown",
   "id": "dc5d8873",
   "metadata": {},
   "source": [
    "سیستم رنگ RGB یکی از رایج‌ترین مدل‌های رنگی است که در کامپیوترها و دستگاه‌های دیجیتال استفاده می‌شود. این سیستم بر اساس ترکیب سه رنگ اصلی **قرمز (Red)**، **سبز (Green)** و **آبی (Blue)** کار می‌کند. هر رنگ در این مدل به صورت یک مقدار عددی نمایش داده می‌شود که شدت آن را مشخص می‌کند. این مقادیر معمولاً در بازه ۰ تا ۲۵۵ قرار دارند."
   ]
  },
  {
   "cell_type": "markdown",
   "id": "b9aa8b63",
   "metadata": {},
   "source": [
    "### نحوه استفاده کامپیوتر از سیستم RGB "
   ]
  },
  {
   "cell_type": "markdown",
   "id": "649bee6e",
   "metadata": {},
   "source": [
    "1. **نمایش تصاویر رنگی**: هر پیکسل در یک تصویر دیجیتال با استفاده از سه مقدار RGB تعریف می‌شود. این مقادیر شدت نور قرمز، سبز و آبی را در آن پیکسل مشخص می‌کنند. با ترکیب این سه رنگ، می‌توان میلیون‌ها رنگ مختلف ایجاد کرد.\n",
    "2. **ذخیره‌سازی تصاویر**: تصاویر رنگی در کامپیوتر به صورت ماتریسی از پیکسل‌ها ذخیره می‌شوند. هر پیکسل شامل سه مقدار عددی است که مقادیر RGB آن را نشان می‌دهند. به عنوان مثال، یک تصویر با وضوح ۱۰۲۴x۷۶۸ شامل ۷۶۸,۱۰۲۴ پیکسل است که هر پیکسل دارای سه مقدار RGB است.\n",
    "3. **پردازش تصاویر**: هنگام پردازش تصاویر، کامپیوتر می‌تواند مقادیر RGB را تغییر دهد تا جلوه‌های خاصی ایجاد کند، مانند تغییر روشنایی، کنتراست یا اعمال فیلترهای رنگی."
   ]
  },
  {
   "cell_type": "markdown",
   "id": "b1aa29f8",
   "metadata": {},
   "source": [
    "### تأثیر سیستم RGB بر تصاویر"
   ]
  },
  {
   "cell_type": "markdown",
   "id": "49a7498c",
   "metadata": {},
   "source": [
    "- **دقت رنگ**: سیستم RGB امکان نمایش طیف گسترده‌ای از رنگ‌ها را فراهم می‌کند، که باعث می‌شود تصاویر واقعی‌تر و جذاب‌تر به نظر برسند.\n",
    "- **اندازه فایل**: تصاویر RGB معمولاً حجم بیشتری نسبت به تصاویر سیاه و سفید دارند، زیرا هر پیکسل به سه مقدار نیاز دارد.\n",
    "- **سازگاری**: سیستم RGB به دلیل سازگاری با اکثر نمایشگرها و دستگاه‌های دیجیتال، به طور گسترده استفاده می‌شود.\n"
   ]
  },
  {
   "cell_type": "markdown",
   "id": "ce293c47",
   "metadata": {},
   "source": [
    "در نهایت، سیستم RGB یکی از پایه‌های اصلی نمایش و پردازش تصاویر دیجیتال است که تأثیر زیادی بر کیفیت و وضوح تصاویر دارد."
   ]
  },
  {
   "cell_type": "markdown",
   "id": "ca15ef67",
   "metadata": {},
   "source": [
    "## Images are store in multi-dimensional arrays"
   ]
  },
  {
   "cell_type": "markdown",
   "id": "8856ce5e",
   "metadata": {},
   "source": [
    "1. **آرایه‌های دو‌بعدی (2D Arrays)**:\n",
    "    تصاویر سیاه و سفید یا خاکستری معمولاً به صورت آرایه‌های دو‌بعدی ذخیره می‌شوند. هر عنصر در این آرایه نشان‌دهنده شدت نور یا مقدار خاکستری یک پیکسل است. مقادیر معمولاً در بازه ۰ تا ۲۵۵ قرار دارند.\n",
    "\n",
    "2. **آرایه‌های سه‌بعدی (3D Arrays)**:\n",
    "    تصاویر رنگی در سیستم RGB به صورت آرایه‌های سه‌بعدی ذخیره می‌شوند. این آرایه شامل سه کانال (قرمز، سبز و آبی) است که هر کانال یک آرایه دو‌بعدی از مقادیر شدت نور برای آن رنگ خاص است.\n",
    "\n",
    "3. **آرایه‌های چهار‌بعدی (4D Arrays)**:\n",
    "    در پردازش ویدئوها یا مجموعه‌ای از تصاویر، از آرایه‌های چهار‌بعدی استفاده می‌شود. این آرایه‌ها شامل یک بعد اضافی برای زمان یا تعداد فریم‌ها هستند. هر فریم به صورت یک آرایه سه‌بعدی ذخیره می‌شود."
   ]
  },
  {
   "cell_type": "markdown",
   "id": "de4fe20e",
   "metadata": {},
   "source": [
    "## Black & White or Grayscale"
   ]
  },
  {
   "cell_type": "markdown",
   "id": "69da4c36",
   "metadata": {},
   "source": [
    "تصاویر سیاه و سفید یا خاکستری نوعی از تصاویر دیجیتال هستند که تنها شامل مقادیر شدت نور در هر پیکسل می‌باشند. این تصاویر فاقد اطلاعات رنگی هستند و هر پیکسل با یک مقدار عددی نمایش داده می‌شود که نشان‌دهنده شدت روشنایی آن نقطه است. مقادیر معمولاً در بازه **۰ (سیاه مطلق)** تا **۲۵۵ (سفید مطلق)** قرار دارند.\n",
    "\n",
    "### **ویژگی‌ها**\n",
    "- **سادگی**: تصاویر سیاه و سفید ساده‌تر از تصاویر رنگی هستند و پردازش آن‌ها سریع‌تر انجام می‌شود.\n",
    "- **حجم کمتر**: به دلیل ذخیره‌سازی تنها یک مقدار برای هر پیکسل، حجم فایل‌های سیاه و سفید به طور قابل توجهی کمتر از تصاویر رنگی است.\n",
    "- **کاربردهای گسترده**: این تصاویر در حوزه‌هایی مانند پردازش تصاویر پزشکی (مانند تصاویر اشعه ایکس)، تصاویر ماهواره‌ای، و هنر دیجیتال به طور گسترده استفاده می‌شوند.\n",
    "- **سهولت در تحلیل**: به دلیل کاهش پیچیدگی داده‌ها، تحلیل و استخراج ویژگی‌ها از این تصاویر ساده‌تر است.\n",
    "\n",
    "### **ساختار ذخیره‌سازی**\n",
    "به دلیل ساختار ساده، این نوع تصاویر را می‌توان به راحتی در آرایه‌های دو‌بعدی ذخیره کرد، که هر عنصر آرایه نشان‌دهنده شدت روشنایی یک پیکسل است.\n",
    "\n",
    "### **انواع تصاویر سیاه و سفید**\n",
    "1. **Grayscale**: شامل محدوده‌ای از سایه‌های خاکستری.\n",
    "2. **Binary**: پیکسل‌ها تنها می‌توانند سیاه یا سفید باشند."
   ]
  },
  {
   "cell_type": "markdown",
   "id": "8a36a508",
   "metadata": {},
   "source": [
    "## What is exactly opencv?"
   ]
  },
  {
   "cell_type": "markdown",
   "id": "d8eef912",
   "metadata": {},
   "source": [
    "OpenCV (Open Source Computer Vision Library) یک کتابخانه متن‌باز برای پردازش تصویر و بینایی کامپیوتر است. این کتابخانه ابزارهای متنوعی برای انجام وظایف مختلف مانند تشخیص چهره، شناسایی اشیاء، پردازش ویدئو، و تحلیل تصاویر فراهم می‌کند. OpenCV به زبان C++ نوشته شده است، اما رابط‌هایی برای زبان‌های دیگر مانند Python و Java نیز ارائه می‌دهد.\n",
    "\n",
    "### ویژگی‌های کلیدی OpenCV:\n",
    "1. **پردازش تصویر**: شامل فیلترگذاری، تشخیص لبه‌ها، تبدیل تصاویر، و بسیاری از عملیات دیگر.\n",
    "2. **بینایی کامپیوتر**: شامل تشخیص اشیاء، ردیابی حرکت، و تحلیل ویدئو.\n",
    "3. **سازگاری با پلتفرم‌های مختلف**: OpenCV بر روی سیستم‌عامل‌های مختلف مانند ویندوز، لینوکس، و مک قابل اجرا است.\n",
    "4. **پشتیبانی از سخت‌افزارهای مختلف**: این کتابخانه از GPU و پردازش موازی برای افزایش سرعت پردازش پشتیبانی می‌کند.\n",
    "\n",
    "\n",
    "### کاربردها:\n",
    "- **تشخیص چهره و اشیاء**\n",
    "- **تحلیل ویدئو**\n",
    "- **بینایی رباتیک**\n",
    "- **واقعیت افزوده**\n",
    "- **پردازش تصاویر پزشکی**\n",
    "- **تشخیص حرکت و ردیابی اشیاء**\n",
    "- **بازسازی سه‌بعدی**\n",
    "- **کالیبراسیون دوربین**\n",
    "- **تشخیص الگو و تطبیق الگو**\n",
    "- **تحلیل تصاویر صنعتی**\n",
    "- **پردازش تصاویر ماهواره‌ای**\n",
    "- **بینایی ماشین در خودروهای خودران**\n",
    "- **فشرده‌سازی و بهینه‌سازی تصاویر**\n",
    "\n",
    "OpenCV به دلیل سرعت بالا و قابلیت‌های گسترده، یکی از محبوب‌ترین ابزارها در حوزه پردازش تصویر و بینایی کامپیوتر است."
   ]
  },
  {
   "cell_type": "markdown",
   "id": "f3deb876",
   "metadata": {},
   "source": [
    "## Getting start to coding"
   ]
  },
  {
   "cell_type": "code",
   "execution_count": 3,
   "id": "0f206ca4",
   "metadata": {},
   "outputs": [],
   "source": [
    "import cv2  # Import the OpenCV library for image processing.\n",
    "\n",
    "# Read the image from the file 'image.jpg' and store it in the variable 'image'.\n",
    "# The image is loaded as a multi-dimensional NumPy array representing pixel values.\n",
    "image = cv2.imread('image.jpg')\n",
    "\n",
    "# Display the image in a window titled 'Hello World!'.\n",
    "# The 'imshow' function shows the image stored in the 'image' variable.\n",
    "imshow = cv2.imshow('Hello World!', image)\n",
    "\n",
    "# Wait indefinitely for a key press. This ensures the image window remains open until a key is pressed.\n",
    "cv2.waitKey()\n",
    "\n",
    "# Close all OpenCV windows. This is used to clean up and close the image display window.\n",
    "cv2.destroyAllWindows()\n"
   ]
  },
  {
   "cell_type": "code",
   "execution_count": null,
   "id": "579e6c46",
   "metadata": {},
   "outputs": [
    {
     "name": "stdout",
     "output_type": "stream",
     "text": [
      "(630, 1200, 3)\n"
     ]
    }
   ],
   "source": [
    "print(image.shape)  # Print the shape of the image, which includes Width, Height, Number of Color Channels."
   ]
  },
  {
   "cell_type": "code",
   "execution_count": 6,
   "id": "3abc69ad",
   "metadata": {},
   "outputs": [
    {
     "name": "stdout",
     "output_type": "stream",
     "text": [
      "Hight of image: 630 pixels\n",
      "Width of image: 1200 pixels\n"
     ]
    }
   ],
   "source": [
    "print(f\"Hight of image: {int(image.shape[0])} pixels\")\n",
    "print(f\"Width of image: {int(image.shape[1])} pixels\")"
   ]
  },
  {
   "cell_type": "markdown",
   "id": "2b1c1717",
   "metadata": {},
   "source": [
    "### How do we save images we edit in opencv"
   ]
  },
  {
   "cell_type": "code",
   "execution_count": null,
   "id": "ad11b393",
   "metadata": {},
   "outputs": [
    {
     "data": {
      "text/plain": [
       "True"
      ]
     },
     "execution_count": 7,
     "metadata": {},
     "output_type": "execute_result"
    }
   ],
   "source": [
    "cv2.imwrite('new1.jpg', image)  # Save the image to a new file named 'new1.jpg'\n",
    "cv2.imwrite('new2.png', image)  # Save the image to another file named 'new2.png'"
   ]
  },
  {
   "cell_type": "markdown",
   "id": "561dc6b5",
   "metadata": {},
   "source": [
    "## Grayscaling image"
   ]
  },
  {
   "cell_type": "code",
   "execution_count": 8,
   "id": "d2811b7b",
   "metadata": {},
   "outputs": [],
   "source": [
    "# Convert the image to grayscale\n",
    "gray_image = cv2.cvtColor(image, cv2.COLOR_BGR2GRAY)\n",
    "\n",
    "# Display the grayscale image\n",
    "cv2.imshow('Grayscale Image', gray_image)\n",
    "cv2.waitKey()\n",
    "cv2.destroyAllWindows()"
   ]
  },
  {
   "cell_type": "markdown",
   "id": "e59de8e5",
   "metadata": {},
   "source": [
    "**توجه داشته باشید** که کتابخانه cv2 در بلوک های قبلی لود شده ، همچنین عکس اصلی در بلوک های قبلی خوانده شده ، اگر این کد را در جایی بجز ژوپیتر اجرا می کنید حواستان باشد که کد را کامل بنویسید"
   ]
  },
  {
   "cell_type": "code",
   "execution_count": null,
   "id": "263e0e14",
   "metadata": {},
   "outputs": [],
   "source": [
    "# Another method for loading grayscale image\n",
    "gray_image_faster = cv2.imread('image.jpg',0)  # Load the image in grayscale mode (0 means grayscale)\n",
    "\n",
    "cv2.imshow('Grayscale Image2', gray_image_faster)\n",
    "cv2.waitKey()\n",
    "cv2.destroyAllWindows()"
   ]
  },
  {
   "cell_type": "code",
   "execution_count": null,
   "id": "f977b6ff",
   "metadata": {},
   "outputs": [],
   "source": []
  }
 ],
 "metadata": {
  "kernelspec": {
   "display_name": "base",
   "language": "python",
   "name": "python3"
  },
  "language_info": {
   "codemirror_mode": {
    "name": "ipython",
    "version": 3
   },
   "file_extension": ".py",
   "mimetype": "text/x-python",
   "name": "python",
   "nbconvert_exporter": "python",
   "pygments_lexer": "ipython3",
   "version": "3.12.7"
  }
 },
 "nbformat": 4,
 "nbformat_minor": 5
}
