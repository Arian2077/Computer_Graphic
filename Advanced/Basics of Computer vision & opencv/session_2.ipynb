{
 "cells": [
  {
   "cell_type": "markdown",
   "id": "061b3d01",
   "metadata": {},
   "source": [
    "# What Are Images"
   ]
  },
  {
   "cell_type": "markdown",
   "id": "e151dd8c",
   "metadata": {},
   "source": [
    "تصاویر مجموعه‌ای از داده‌ها هستند که به صورت ماتریس‌هایی از پیکسل‌ها نمایش داده می‌شوند.\n",
    "هر پیکسل دارای مقداری است که نشان‌دهنده شدت نور یا رنگ در آن نقطه خاص است.\n",
    "تصاویر می‌توانند سیاه و سفید (مقادیر شدت خاکستری) یا رنگی (ترکیبی از سه کانال رنگی قرمز، سبز و آبی) باشند."
   ]
  },
  {
   "cell_type": "markdown",
   "id": "a644620f",
   "metadata": {},
   "source": [
    "## How are images formed?"
   ]
  },
  {
   "cell_type": "markdown",
   "id": "3817b169",
   "metadata": {},
   "source": [
    "تصاویر از طریق ثبت نور بازتابی یا منتشر شده از اشیاء توسط حسگرها یا دوربین‌ها تشکیل می‌شوند. این فرآیند شامل چند مرحله است:\n",
    "\n",
    "1. **جمع‌آوری نور**: نور از یک منبع (مانند خورشید یا یک لامپ) به اشیاء برخورد می‌کند و بازتاب یا انتشار می‌یابد. این نور توسط لنز دوربین یا حسگر جمع‌آوری می‌شود.\n",
    "2. **تمرکز نور**: لنز دوربین نور را بر روی حسگر متمرکز می‌کند تا تصویر واضحی ایجاد شود. این فرآیند به تنظیم فاصله کانونی لنز بستگی دارد.\n",
    "3. **تبدیل نور به سیگنال الکتریکی**: حسگر دوربین (مانند CCD یا CMOS) نور را به سیگنال‌های الکتریکی تبدیل می‌کند. هر پیکسل در حسگر شدت نور را در نقطه خاصی ثبت می‌کند.\n",
    "4. **دیجیتالی کردن سیگنال‌ها**: سیگنال‌های الکتریکی به مقادیر دیجیتال تبدیل می‌شوند که می‌توانند توسط کامپیوتر پردازش شوند. این مقادیر معمولاً به صورت ماتریسی از اعداد ذخیره می‌شوند.\n",
    "5. **پردازش تصویر**: داده‌های دیجیتال ممکن است برای بهبود کیفیت تصویر یا استخراج اطلاعات خاص پردازش شوند.\n",
    "در نهایت، تصویر به صورت ماتریسی از پیکسل‌ها نمایش داده می‌شود که هر پیکسل نشان‌دهنده شدت نور یا رنگ در آن نقطه خاص است."
   ]
  },
  {
   "cell_type": "markdown",
   "id": "2a0b78ae",
   "metadata": {},
   "source": [
    "## How do computers store images?"
   ]
  },
  {
   "cell_type": "markdown",
   "id": "dc5d8873",
   "metadata": {},
   "source": [
    "سیستم رنگ RGB یکی از رایج‌ترین مدل‌های رنگی است که در کامپیوترها و دستگاه‌های دیجیتال استفاده می‌شود. این سیستم بر اساس ترکیب سه رنگ اصلی **قرمز (Red)**، **سبز (Green)** و **آبی (Blue)** کار می‌کند. هر رنگ در این مدل به صورت یک مقدار عددی نمایش داده می‌شود که شدت آن را مشخص می‌کند. این مقادیر معمولاً در بازه ۰ تا ۲۵۵ قرار دارند."
   ]
  },
  {
   "cell_type": "markdown",
   "id": "b9aa8b63",
   "metadata": {},
   "source": [
    "### نحوه استفاده کامپیوتر از سیستم RGB "
   ]
  },
  {
   "cell_type": "markdown",
   "id": "649bee6e",
   "metadata": {},
   "source": [
    "1. **نمایش تصاویر رنگی**: هر پیکسل در یک تصویر دیجیتال با استفاده از سه مقدار RGB تعریف می‌شود. این مقادیر شدت نور قرمز، سبز و آبی را در آن پیکسل مشخص می‌کنند. با ترکیب این سه رنگ، می‌توان میلیون‌ها رنگ مختلف ایجاد کرد.\n",
    "2. **ذخیره‌سازی تصاویر**: تصاویر رنگی در کامپیوتر به صورت ماتریسی از پیکسل‌ها ذخیره می‌شوند. هر پیکسل شامل سه مقدار عددی است که مقادیر RGB آن را نشان می‌دهند. به عنوان مثال، یک تصویر با وضوح ۱۰۲۴x۷۶۸ شامل ۷۶۸,۱۰۲۴ پیکسل است که هر پیکسل دارای سه مقدار RGB است.\n",
    "3. **پردازش تصاویر**: هنگام پردازش تصاویر، کامپیوتر می‌تواند مقادیر RGB را تغییر دهد تا جلوه‌های خاصی ایجاد کند، مانند تغییر روشنایی، کنتراست یا اعمال فیلترهای رنگی."
   ]
  },
  {
   "cell_type": "markdown",
   "id": "b1aa29f8",
   "metadata": {},
   "source": [
    "### تأثیر سیستم RGB بر تصاویر"
   ]
  },
  {
   "cell_type": "markdown",
   "id": "49a7498c",
   "metadata": {},
   "source": [
    "- **دقت رنگ**: سیستم RGB امکان نمایش طیف گسترده‌ای از رنگ‌ها را فراهم می‌کند، که باعث می‌شود تصاویر واقعی‌تر و جذاب‌تر به نظر برسند.\n",
    "- **اندازه فایل**: تصاویر RGB معمولاً حجم بیشتری نسبت به تصاویر سیاه و سفید دارند، زیرا هر پیکسل به سه مقدار نیاز دارد.\n",
    "- **سازگاری**: سیستم RGB به دلیل سازگاری با اکثر نمایشگرها و دستگاه‌های دیجیتال، به طور گسترده استفاده می‌شود.\n"
   ]
  },
  {
   "cell_type": "markdown",
   "id": "ce293c47",
   "metadata": {},
   "source": [
    "در نهایت، سیستم RGB یکی از پایه‌های اصلی نمایش و پردازش تصاویر دیجیتال است که تأثیر زیادی بر کیفیت و وضوح تصاویر دارد."
   ]
  },
  {
   "cell_type": "markdown",
   "id": "ca15ef67",
   "metadata": {},
   "source": [
    "## Images are store in multi-dimensional arrays"
   ]
  },
  {
   "cell_type": "markdown",
   "id": "8856ce5e",
   "metadata": {},
   "source": [
    "1. **آرایه‌های دو‌بعدی (2D Arrays)**:\n",
    "    تصاویر سیاه و سفید یا خاکستری معمولاً به صورت آرایه‌های دو‌بعدی ذخیره می‌شوند. هر عنصر در این آرایه نشان‌دهنده شدت نور یا مقدار خاکستری یک پیکسل است. مقادیر معمولاً در بازه ۰ تا ۲۵۵ قرار دارند.\n",
    "\n",
    "2. **آرایه‌های سه‌بعدی (3D Arrays)**:\n",
    "    تصاویر رنگی در سیستم RGB به صورت آرایه‌های سه‌بعدی ذخیره می‌شوند. این آرایه شامل سه کانال (قرمز، سبز و آبی) است که هر کانال یک آرایه دو‌بعدی از مقادیر شدت نور برای آن رنگ خاص است.\n",
    "\n",
    "3. **آرایه‌های چهار‌بعدی (4D Arrays)**:\n",
    "    در پردازش ویدئوها یا مجموعه‌ای از تصاویر، از آرایه‌های چهار‌بعدی استفاده می‌شود. این آرایه‌ها شامل یک بعد اضافی برای زمان یا تعداد فریم‌ها هستند. هر فریم به صورت یک آرایه سه‌بعدی ذخیره می‌شود."
   ]
  },
  {
   "cell_type": "markdown",
   "id": "de4fe20e",
   "metadata": {},
   "source": [
    "## Black & White or Grayscale"
   ]
  },
  {
   "cell_type": "markdown",
   "id": "69da4c36",
   "metadata": {},
   "source": [
    "تصاویر سیاه و سفید یا خاکستری نوعی از تصاویر دیجیتال هستند که تنها شامل مقادیر شدت نور در هر پیکسل می‌باشند. این تصاویر فاقد اطلاعات رنگی هستند و هر پیکسل با یک مقدار عددی نمایش داده می‌شود که نشان‌دهنده شدت روشنایی آن نقطه است. مقادیر معمولاً در بازه **۰ (سیاه مطلق)** تا **۲۵۵ (سفید مطلق)** قرار دارند.\n",
    "\n",
    "### **ویژگی‌ها**\n",
    "- **سادگی**: تصاویر سیاه و سفید ساده‌تر از تصاویر رنگی هستند و پردازش آن‌ها سریع‌تر انجام می‌شود.\n",
    "- **حجم کمتر**: به دلیل ذخیره‌سازی تنها یک مقدار برای هر پیکسل، حجم فایل‌های سیاه و سفید به طور قابل توجهی کمتر از تصاویر رنگی است.\n",
    "- **کاربردهای گسترده**: این تصاویر در حوزه‌هایی مانند پردازش تصاویر پزشکی (مانند تصاویر اشعه ایکس)، تصاویر ماهواره‌ای، و هنر دیجیتال به طور گسترده استفاده می‌شوند.\n",
    "- **سهولت در تحلیل**: به دلیل کاهش پیچیدگی داده‌ها، تحلیل و استخراج ویژگی‌ها از این تصاویر ساده‌تر است.\n",
    "\n",
    "### **ساختار ذخیره‌سازی**\n",
    "به دلیل ساختار ساده، این نوع تصاویر را می‌توان به راحتی در آرایه‌های دو‌بعدی ذخیره کرد، که هر عنصر آرایه نشان‌دهنده شدت روشنایی یک پیکسل است.\n",
    "\n",
    "### **انواع تصاویر سیاه و سفید**\n",
    "1. **Grayscale**: شامل محدوده‌ای از سایه‌های خاکستری.\n",
    "2. **Binary**: پیکسل‌ها تنها می‌توانند سیاه یا سفید باشند."
   ]
  },
  {
   "cell_type": "markdown",
   "id": "8a36a508",
   "metadata": {},
   "source": [
    "## What is exactly opencv?"
   ]
  },
  {
   "cell_type": "markdown",
   "id": "d8eef912",
   "metadata": {},
   "source": [
    "OpenCV (Open Source Computer Vision Library) یک کتابخانه متن‌باز برای پردازش تصویر و بینایی کامپیوتر است. این کتابخانه ابزارهای متنوعی برای انجام وظایف مختلف مانند تشخیص چهره، شناسایی اشیاء، پردازش ویدئو، و تحلیل تصاویر فراهم می‌کند. OpenCV به زبان C++ نوشته شده است، اما رابط‌هایی برای زبان‌های دیگر مانند Python و Java نیز ارائه می‌دهد.\n",
    "\n",
    "### ویژگی‌های کلیدی OpenCV:\n",
    "1. **پردازش تصویر**: شامل فیلترگذاری، تشخیص لبه‌ها، تبدیل تصاویر، و بسیاری از عملیات دیگر.\n",
    "2. **بینایی کامپیوتر**: شامل تشخیص اشیاء، ردیابی حرکت، و تحلیل ویدئو.\n",
    "3. **سازگاری با پلتفرم‌های مختلف**: OpenCV بر روی سیستم‌عامل‌های مختلف مانند ویندوز، لینوکس، و مک قابل اجرا است.\n",
    "4. **پشتیبانی از سخت‌افزارهای مختلف**: این کتابخانه از GPU و پردازش موازی برای افزایش سرعت پردازش پشتیبانی می‌کند.\n",
    "\n",
    "\n",
    "### کاربردها:\n",
    "- **تشخیص چهره و اشیاء**\n",
    "- **تحلیل ویدئو**\n",
    "- **بینایی رباتیک**\n",
    "- **واقعیت افزوده**\n",
    "- **پردازش تصاویر پزشکی**\n",
    "- **تشخیص حرکت و ردیابی اشیاء**\n",
    "- **بازسازی سه‌بعدی**\n",
    "- **کالیبراسیون دوربین**\n",
    "- **تشخیص الگو و تطبیق الگو**\n",
    "- **تحلیل تصاویر صنعتی**\n",
    "- **پردازش تصاویر ماهواره‌ای**\n",
    "- **بینایی ماشین در خودروهای خودران**\n",
    "- **فشرده‌سازی و بهینه‌سازی تصاویر**\n",
    "\n",
    "OpenCV به دلیل سرعت بالا و قابلیت‌های گسترده، یکی از محبوب‌ترین ابزارها در حوزه پردازش تصویر و بینایی کامپیوتر است."
   ]
  },
  {
   "cell_type": "markdown",
   "id": "f3deb876",
   "metadata": {},
   "source": [
    "## Getting start to coding"
   ]
  },
  {
   "cell_type": "code",
   "execution_count": 3,
   "id": "0f206ca4",
   "metadata": {},
   "outputs": [],
   "source": [
    "import cv2  # Import the OpenCV library for image processing.\n",
    "\n",
    "# Read the image from the file 'image.jpg' and store it in the variable 'image'.\n",
    "# The image is loaded as a multi-dimensional NumPy array representing pixel values.\n",
    "image = cv2.imread('image.jpg')\n",
    "\n",
    "# Display the image in a window titled 'Hello World!'.\n",
    "# The 'imshow' function shows the image stored in the 'image' variable.\n",
    "imshow = cv2.imshow('Hello World!', image)\n",
    "\n",
    "# Wait indefinitely for a key press. This ensures the image window remains open until a key is pressed.\n",
    "cv2.waitKey()\n",
    "\n",
    "# Close all OpenCV windows. This is used to clean up and close the image display window.\n",
    "cv2.destroyAllWindows()\n"
   ]
  },
  {
   "cell_type": "code",
   "execution_count": null,
   "id": "579e6c46",
   "metadata": {},
   "outputs": [
    {
     "name": "stdout",
     "output_type": "stream",
     "text": [
      "(630, 1200, 3)\n"
     ]
    }
   ],
   "source": [
    "print(image.shape)  # Print the shape of the image, which includes Width, Height, Number of Color Channels."
   ]
  },
  {
   "cell_type": "code",
   "execution_count": 6,
   "id": "3abc69ad",
   "metadata": {},
   "outputs": [
    {
     "name": "stdout",
     "output_type": "stream",
     "text": [
      "Hight of image: 630 pixels\n",
      "Width of image: 1200 pixels\n"
     ]
    }
   ],
   "source": [
    "print(f\"Hight of image: {int(image.shape[0])} pixels\")\n",
    "print(f\"Width of image: {int(image.shape[1])} pixels\")"
   ]
  },
  {
   "cell_type": "markdown",
   "id": "2b1c1717",
   "metadata": {},
   "source": [
    "### How do we save images we edit in opencv"
   ]
  },
  {
   "cell_type": "code",
   "execution_count": null,
   "id": "ad11b393",
   "metadata": {},
   "outputs": [
    {
     "data": {
      "text/plain": [
       "True"
      ]
     },
     "execution_count": 7,
     "metadata": {},
     "output_type": "execute_result"
    }
   ],
   "source": [
    "cv2.imwrite('new1.jpg', image)  # Save the image to a new file named 'new1.jpg'\n",
    "cv2.imwrite('new2.png', image)  # Save the image to another file named 'new2.png'"
   ]
  },
  {
   "cell_type": "markdown",
   "id": "561dc6b5",
   "metadata": {},
   "source": [
    "## Grayscaling image"
   ]
  },
  {
   "cell_type": "code",
   "execution_count": 8,
   "id": "d2811b7b",
   "metadata": {},
   "outputs": [],
   "source": [
    "# Convert the image to grayscale\n",
    "gray_image = cv2.cvtColor(image, cv2.COLOR_BGR2GRAY)\n",
    "\n",
    "# Display the grayscale image\n",
    "cv2.imshow('Grayscale Image', gray_image)\n",
    "cv2.waitKey()\n",
    "cv2.destroyAllWindows()"
   ]
  },
  {
   "cell_type": "markdown",
   "id": "e59de8e5",
   "metadata": {},
   "source": [
    "**توجه داشته باشید** که کتابخانه cv2 در بلوک های قبلی لود شده ، همچنین عکس اصلی در بلوک های قبلی خوانده شده ، اگر این کد را در جایی بجز ژوپیتر اجرا می کنید حواستان باشد که کد را کامل بنویسید"
   ]
  },
  {
   "cell_type": "code",
   "execution_count": null,
   "id": "263e0e14",
   "metadata": {},
   "outputs": [],
   "source": [
    "# Another method for loading grayscale image\n",
    "gray_image_faster = cv2.imread('image.jpg',0)  # Load the image in grayscale mode (0 means grayscale)\n",
    "\n",
    "cv2.imshow('Grayscale Image2', gray_image_faster)\n",
    "cv2.waitKey()\n",
    "cv2.destroyAllWindows()"
   ]
  },
  {
   "cell_type": "markdown",
   "id": "f4c035b8",
   "metadata": {},
   "source": [
    "## Different color spaces: RGB، HSV و CMYK\n",
    "\n",
    "#### **RGB (Red, Green, Blue)**\n",
    "سیستم رنگی RGB یکی از رایج‌ترین مدل‌های رنگی است که در نمایشگرها و دستگاه‌های دیجیتال استفاده می‌شود. این مدل بر اساس ترکیب سه رنگ اصلی **قرمز (Red)**، **سبز (Green)** و **آبی (Blue)** کار می‌کند. هر رنگ در این مدل با یک مقدار عددی نمایش داده می‌شود که شدت آن را مشخص می‌کند. مقادیر معمولاً در بازه ۰ تا ۲۵۵ قرار دارند.\n",
    "\n",
    "- **کاربردها**: نمایش تصاویر در مانیتورها، تلویزیون‌ها و دستگاه‌های دیجیتال.\n",
    "- **ویژگی‌ها**: امکان تولید میلیون‌ها رنگ مختلف با ترکیب مقادیر مختلف RGB.\n",
    "\n",
    "\n",
    "#### **HSV (Hue, Saturation, Value)**\n",
    "مدل رنگی HSV برای توصیف رنگ‌ها به روشی که برای انسان‌ها طبیعی‌تر است استفاده می‌شود. این مدل شامل سه مؤلفه است:\n",
    "1. **Hue (رنگ)**: زاویه‌ای در چرخه رنگ که نوع رنگ (مانند قرمز، آبی، زرد) را مشخص می‌کند.\n",
    "2. **Saturation (اشباع)**: شدت یا خلوص رنگ را نشان می‌دهد. مقدار صفر به معنای خاکستری و مقدار ۱۰۰٪ به معنای رنگ خالص است.\n",
    "3. **Value (روشنایی)**: روشنایی یا تاریکی رنگ را مشخص می‌کند. مقدار صفر به معنای سیاه و مقدار ۱۰۰٪ به معنای روشن‌ترین رنگ است.\n",
    "\n",
    "- **کاربردها**: پردازش تصویر و بینایی کامپیوتر، زیرا این مدل به درک بهتر رنگ‌ها کمک می‌کند.\n",
    "- **ویژگی‌ها**: جداسازی اطلاعات رنگ از روشنایی، که در تحلیل تصاویر مفید است.\n",
    "\n",
    "#### **CMYK (Cyan, Magenta, Yellow, Key/Black)**\n",
    "مدل رنگی CMYK در چاپگرها و فرآیندهای چاپ استفاده می‌شود. این مدل بر اساس ترکیب چهار رنگ اصلی **فیروزه‌ای (Cyan)**، **ارغوانی (Magenta)**، **زرد (Yellow)** و **سیاه (Key/Black)** کار می‌کند.\n",
    "\n",
    "- **کاربردها**: چاپ تصاویر و متون روی کاغذ.\n",
    "- **ویژگی‌ها**: این مدل برای تولید رنگ‌ها از کاهش نور بازتابی استفاده می‌کند، برخلاف RGB که از انتشار نور استفاده می‌کند.\n",
    "\n",
    "\n",
    "### **تفاوت‌ها**\n",
    "- **RGB** برای نمایشگرها و دستگاه‌های دیجیتال مناسب است، در حالی که **CMYK** برای چاپ استفاده می‌شود.\n",
    "- **HSV** برای تحلیل و پردازش تصاویر مناسب‌تر است، زیرا اطلاعات رنگ را به صورت جداگانه از روشنایی ارائه می‌دهد."
   ]
  },
  {
   "cell_type": "markdown",
   "id": "cda5793c",
   "metadata": {},
   "source": [
    "## Color filtering\n",
    "\n",
    "فیلتر کردن رنگ یکی از تکنیک‌های پردازش تصویر است که برای شناسایی و استخراج بخش‌های خاصی از تصویر که دارای رنگ مشخصی هستند، استفاده می‌شود. این تکنیک معمولاً در سیستم‌های بینایی کامپیوتر و پردازش تصویر برای جداسازی اشیاء یا نواحی خاص بر اساس رنگ آن‌ها به کار می‌رود.\n",
    "\n",
    "### **مراحل فیلتر کردن رنگ**\n",
    "1. **تبدیل فضای رنگی**:\n",
    "    ابتدا تصویر از فضای رنگی RGB به فضای رنگی دیگری مانند HSV (Hue, Saturation, Value) تبدیل می‌شود. فضای رنگی HSV برای فیلتر کردن رنگ مناسب‌تر است، زیرا اطلاعات رنگ (Hue) را از شدت روشنایی (Value) جدا می‌کند.\n",
    "\n",
    "2. **تعریف محدوده رنگی**:\n",
    "    محدوده‌ای از رنگ که باید فیلتر شود، به صورت مقادیر حد پایین و حد بالا تعریف می‌شود. این مقادیر معمولاً در فضای رنگی HSV مشخص می‌شوند.\n",
    "\n",
    "3. **ایجاد ماسک**:\n",
    "    با استفاده از محدوده رنگی تعریف‌شده، یک ماسک باینری ایجاد می‌شود. در این ماسک، پیکسل‌هایی که در محدوده رنگی قرار دارند به صورت سفید (1) و سایر پیکسل‌ها به صورت سیاه (0) نمایش داده می‌شوند.\n",
    "\n",
    "4. **اعمال ماسک**:\n",
    "    ماسک ایجادشده بر روی تصویر اصلی اعمال می‌شود تا تنها بخش‌هایی از تصویر که دارای رنگ مورد نظر هستند، باقی بمانند.\n",
    "\n",
    "### **کاربردها**\n",
    "- **تشخیص اشیاء**: شناسایی اشیاء خاص مانند توپ در بازی‌های ورزشی.\n",
    "- **ردیابی حرکت**: ردیابی اشیاء متحرک بر اساس رنگ آن‌ها.\n",
    "- **پردازش تصاویر پزشکی**: جداسازی نواحی خاص در تصاویر پزشکی.\n",
    "- **بینایی رباتیک**: شناسایی و تعامل با اشیاء در محیط.\n",
    "\n",
    "### **مزایا**\n",
    "- سرعت بالا در شناسایی اشیاء.\n",
    "- ساده و کارآمد برای تصاویر با پس‌زمینه ساده.\n",
    "\n",
    "### **معایب**\n",
    "- حساسیت به تغییرات نور و روشنایی.\n",
    "- عملکرد ضعیف در تصاویر با پس‌زمینه پیچیده."
   ]
  },
  {
   "cell_type": "markdown",
   "id": "b717ac0c",
   "metadata": {},
   "source": [
    "## One use of HSV"
   ]
  },
  {
   "cell_type": "code",
   "execution_count": null,
   "id": "7328ff2f",
   "metadata": {},
   "outputs": [],
   "source": [
    "# H : 0 - 180 , S : 0 - 255 , V : 0 - 255\n",
    "# Convert the image to HSV color space\n",
    "image = cv2.imread('image.jpg') \n",
    "\n",
    "\n",
    "cv2.imshow('HSV Image', hsv_image)\n",
    "cv2.imshow('Hue channel', hsv_image[:, :, 0])\n",
    "cv2.imshow('Saturation channel', hsv_image[:, :, 1]) \n",
    "cv2.imshow('Value channel', hsv_image[:, :, 2])   \n",
    "\n",
    "cv2.waitKey()\n",
    "cv2.destroyAllWindows()"
   ]
  },
  {
   "cell_type": "markdown",
   "id": "d1f8bf88",
   "metadata": {},
   "source": [
    "## Lets do the same thing with RGB"
   ]
  },
  {
   "cell_type": "code",
   "execution_count": null,
   "id": "d899a0a3",
   "metadata": {},
   "outputs": [],
   "source": [
    "# R : 0 - 255 , G : 0 - 255 , B : 0 - 255\n",
    "# Convert the image to RGB color space\n",
    "B , G , R = cv2.split(image)  # Split the image into Blue, Green, and Red channels\n",
    "\n",
    "cv2.imshow('Red channel', R)\n",
    "cv2.imshow('Green channel', G)\n",
    "cv2.imshow('Blue channel', B)\n",
    "cv2.waitKey(0)\n",
    "cv2.destroyAllWindows()\n",
    "\n",
    "# Merge the channels back into a single image\n",
    "merged_image = cv2.merge([B, G, R]) \n",
    "cv2.imshow('Merged Image', merged_image)  \n",
    "\n",
    "cv2.waitKey(0)\n",
    "cv2.destroyAllWindows()"
   ]
  },
  {
   "cell_type": "markdown",
   "id": "c2a48fd0",
   "metadata": {},
   "source": [
    "## Making histograms"
   ]
  },
  {
   "cell_type": "code",
   "execution_count": 5,
   "id": "677d475a",
   "metadata": {},
   "outputs": [
    {
     "data": {
      "image/png": "[encoded data removed]",
      "text/plain": [
       "<Figure size 640x480 with 1 Axes>"
      ]
     },
     "metadata": {},
     "output_type": "display_data"
    }
   ],
   "source": [
    "import cv2\n",
    "import numpy as np\n",
    "\n",
    "from matplotlib import pyplot as plt\n",
    "# Read the image using OpenCV\n",
    "image = cv2.imread('image.jpg')\n",
    "\n",
    "# Calculate the histogram for the Blue channel\n",
    "histogram = cv2.calcHist([image],[0],None,[256],[0,256]) \n",
    "# Plot the histogram for the Blue channel in blue color\n",
    "plt.plot(histogram, color='b') \n",
    "\n",
    "# Viewing separate color channels \n",
    "color = ('b', 'g', 'r') \n",
    "for i, col in enumerate(color):\n",
    "    histogram = cv2.calcHist([image], [i], None, [256], [0, 256]) \n",
    "    plt.plot(histogram, color=col) \n",
    "    plt.xlim([0, 256])  # Set the x-axis limits to [0, 256]\n",
    "    plt.title('Color Histogram')\n",
    "    plt.xlabel('Pixel Value')  # Label for the x-axis\n",
    "    plt.ylabel('Frequency')  # Label for the y-axis\n",
    "plt.show()  # Display the histogram plot"
   ]
  },
  {
   "cell_type": "markdown",
   "id": "44ecee69",
   "metadata": {},
   "source": [
    "کد بالا شامل بخش‌های مختلفی از پردازش تصویر با استفاده از کتابخانه OpenCV است. در ادامه توضیح هر بخش آورده شده است:\n",
    "\n",
    "1. **متغیرهای `B`, `G`, `R`**:\n",
    "    این متغیرها کانال‌های رنگی تصویر اصلی هستند که با استفاده از تابع `cv2.split` از تصویر جدا شده‌اند. هر کانال به صورت یک آرایه دو‌بعدی ذخیره می‌شود که مقادیر شدت رنگ مربوط به آن کانال (آبی، سبز، قرمز) را نشان می‌دهد.\n",
    "\n",
    "2. **متغیر `col`**:\n",
    "    این متغیر یک رشته است که نشان‌دهنده رنگ فعلی (در اینجا 'r' برای قرمز) است.\n",
    "\n",
    "3. **متغیر `color`**:\n",
    "    این متغیر یک تاپل است که شامل سه رشته 'b', 'g', 'r' است و نشان‌دهنده کانال‌های رنگی آبی، سبز و قرمز است.\n",
    "\n",
    "4. **متغیر `histogram`**:\n",
    "    این متغیر یک آرایه یک‌بعدی است که هیستوگرام کانال رنگی مشخصی از تصویر را ذخیره می‌کند. هیستوگرام نشان‌دهنده توزیع مقادیر شدت پیکسل‌ها در یک کانال رنگی است.\n",
    "\n",
    "5. **متغیر `i`**:\n",
    "    این متغیر یک عدد صحیح است که احتمالاً به عنوان ایندکس برای دسترسی به کانال‌های رنگی یا مقادیر دیگر استفاده می‌شود.\n",
    "\n",
    "6. **متغیر `image`**:\n",
    "    این متغیر تصویر اصلی است که با استفاده از تابع `cv2.imread` از فایل خوانده شده است. این تصویر به صورت یک آرایه سه‌بعدی ذخیره می‌شود که شامل مقادیر پیکسل‌ها در سه کانال رنگی (آبی، سبز، قرمز) است.\n",
    "\n",
    "7. **متغیر `imshow`**:\n",
    "    این متغیر نتیجه تابع `cv2.imshow` است که برای نمایش تصویر در یک پنجره استفاده می‌شود. مقدار آن `None` است زیرا این تابع مقداری برنمی‌گرداند.\n",
    "\n",
    "8. **متغیر `merged_image`**:\n",
    "    این متغیر تصویری است که با استفاده از تابع `cv2.merge` از کانال‌های جداگانه (B, G, R) دوباره ترکیب شده است. این تصویر باید مشابه تصویر اصلی باشد.\n",
    "\n",
    "### **کاربرد کد**\n",
    "این کد برای پردازش تصویر و تحلیل کانال‌های رنگی استفاده می‌شود. با جدا کردن کانال‌های رنگی و محاسبه هیستوگرام، می‌توان اطلاعات مفیدی درباره توزیع رنگ‌ها در تصویر به دست آورد. همچنین، با ترکیب دوباره کانال‌ها، می‌توان تصویر اصلی را بازسازی کرد."
   ]
  },
  {
   "cell_type": "markdown",
   "id": "7c7370c8",
   "metadata": {},
   "source": [
    "## Drawing images and shapes using opencv"
   ]
  },
  {
   "cell_type": "code",
   "execution_count": 24,
   "id": "19d8d2cd",
   "metadata": {},
   "outputs": [],
   "source": [
    "import numpy as np\n",
    "import cv2\n",
    "\n",
    "# Create a black square image of size 500x500 pixels\n",
    "black_square = np.zeros((512, 512, 3), dtype=np.uint8)\n",
    "\n",
    "# Display the black square\n",
    "cv2.imshow('Black Square', black_square)\n",
    "cv2.waitKey(0)\n",
    "cv2.destroyAllWindows()"
   ]
  },
  {
   "cell_type": "markdown",
   "id": "4f143ee9",
   "metadata": {},
   "source": [
    "### Lets draw a blue line over our square"
   ]
  },
  {
   "cell_type": "code",
   "execution_count": 18,
   "id": "ee53a74b",
   "metadata": {},
   "outputs": [],
   "source": [
    "# Draw a diagonal blue line of thickness 5 pixels\n",
    "cv2.line(black_square, (0, 0), (511, 511), (255, 0, 0), 5)\n",
    "# Display the image with the blue line\n",
    "cv2.imshow('Diagonal Blue Line', black_square)\n",
    "cv2.waitKey(0)\n",
    "cv2.destroyAllWindows()"
   ]
  },
  {
   "cell_type": "markdown",
   "id": "9c05a530",
   "metadata": {},
   "source": [
    "### Lets draw a rectangle"
   ]
  },
  {
   "cell_type": "code",
   "execution_count": 19,
   "id": "1f42c65f",
   "metadata": {},
   "outputs": [],
   "source": [
    "# Draw a red rectangle\n",
    "cv2.rectangle(black_square, (100, 100), (300, 250), (0, 0, 255), -1)  # -1 means filled rectangle\n",
    "# Display the image with the red rectangle\n",
    "cv2.imshow('Red Rectangle', black_square)\n",
    "cv2.waitKey(0)\n",
    "cv2.destroyAllWindows()"
   ]
  },
  {
   "cell_type": "markdown",
   "id": "29456806",
   "metadata": {},
   "source": [
    "### What about a circle"
   ]
  },
  {
   "cell_type": "code",
   "execution_count": 20,
   "id": "5a0b9bb0",
   "metadata": {},
   "outputs": [],
   "source": [
    "# Draw a green circle   \n",
    "cv2.circle(black_square, (350, 350), 100, (15, 75, 50), -1)  # -1 means filled circle\n",
    "# Display the image with the green circle\n",
    "cv2.imshow('Green Circle', black_square)\n",
    "cv2.waitKey(0)\n",
    "cv2.destroyAllWindows()"
   ]
  },
  {
   "cell_type": "markdown",
   "id": "c6cd22f9",
   "metadata": {},
   "source": [
    "### Drawing a polygons"
   ]
  },
  {
   "cell_type": "code",
   "execution_count": null,
   "id": "9dbbd18e",
   "metadata": {},
   "outputs": [],
   "source": [
    "# Define the vertices of the polygon\n",
    "points = np.array([[100, 50], [200, 300], [70, 200], [400, 150]], np.int32)  \n",
    "cv2.polylines(black_square, [points], isClosed=True, color=(0, 255, 255), thickness=3) \n",
    "# Display the image with the polygon\n",
    "cv2.imshow('Polygon', black_square)\n",
    "cv2.waitKey(0)\n",
    "cv2.destroyAllWindows()"
   ]
  },
  {
   "cell_type": "markdown",
   "id": "0ed84f76",
   "metadata": {},
   "source": [
    "### Lets add text with cv2.putText"
   ]
  },
  {
   "cell_type": "markdown",
   "id": "72cad33a",
   "metadata": {},
   "source": [
    "### انواع فونت‌های OpenCV\n",
    "\n",
    "در اینجا لیستی از انواع فونت‌های موجود در OpenCV به همراه توضیحات آن‌ها آورده شده است:\n",
    "\n",
    "- **`cv2.FONT_HERSHEY_SIMPLEX`**: فونت ساده و بدون سریف با اندازه معمولی.\n",
    "- **`cv2.FONT_HERSHEY_PLAIN`**: فونت ساده و بدون سریف با اندازه کوچک.\n",
    "- **`cv2.FONT_HERSHEY_DUPLEX`**: فونت ساده و بدون سریف با اندازه معمولی (کمی پیچیده‌تر از SIMPLEX).\n",
    "- **`cv2.FONT_HERSHEY_COMPLEX`**: فونت سریف با اندازه معمولی.\n",
    "- **`cv2.FONT_HERSHEY_TRIPLEX`**: فونت سریف با اندازه معمولی (کمی پیچیده‌تر از COMPLEX).\n",
    "- **`cv2.FONT_HERSHEY_COMPLEX_SMALL`**: نسخه کوچک‌تر از COMPLEX.\n",
    "- **`cv2.FONT_HERSHEY_SCRIPT_SIMPLEX`**: فونت به سبک دست‌نویس ساده.\n",
    "- **`cv2.FONT_HERSHEY_SCRIPT_COMPLEX`**: فونت به سبک دست‌نویس پیچیده‌تر.\n",
    "- **`cv2.FONT_ITALIC`**: می‌تواند با هر یک از فونت‌های بالا ترکیب شود تا متن به صورت ایتالیک نمایش داده شود."
   ]
  },
  {
   "cell_type": "code",
   "execution_count": 25,
   "id": "26826c65",
   "metadata": {},
   "outputs": [],
   "source": [
    "# add text to the image\n",
    "font = cv2.FONT_HERSHEY_SIMPLEX # Define the font type\n",
    "cv2.putText(black_square, 'Hello World!', (75, 290), font, 1, (255, 255, 255), 2, cv2.LINE_AA)\n",
    "# Display the image with the text\n",
    "cv2.imshow('Text on Image', black_square)\n",
    "cv2.waitKey(0)\n",
    "cv2.destroyAllWindows()"
   ]
  }
 ],
 "metadata": {
  "kernelspec": {
   "display_name": "base",
   "language": "python",
   "name": "python3"
  },
  "language_info": {
   "codemirror_mode": {
    "name": "ipython",
    "version": 3
   },
   "file_extension": ".py",
   "mimetype": "text/x-python",
   "name": "python",
   "nbconvert_exporter": "python",
   "pygments_lexer": "ipython3",
   "version": "3.12.7"
  }
 },
 "nbformat": 4,
 "nbformat_minor": 5
}
